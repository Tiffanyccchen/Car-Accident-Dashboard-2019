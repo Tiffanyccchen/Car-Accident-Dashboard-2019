{
 "cells": [
  {
   "cell_type": "code",
   "execution_count": 2,
   "metadata": {},
   "outputs": [],
   "source": [
    "import pandas as pd"
   ]
  },
  {
   "cell_type": "code",
   "execution_count": 3,
   "metadata": {},
   "outputs": [],
   "source": [
    "data=pd.read_csv('car_accident_1.csv',index_col=0)"
   ]
  },
  {
   "cell_type": "markdown",
   "metadata": {},
   "source": [
    "# Column Shaping"
   ]
  },
  {
   "cell_type": "code",
   "execution_count": 95,
   "metadata": {},
   "outputs": [],
   "source": [
    "def year(row):\n",
    "    return str(row).split('-')[0]\n",
    "def month(row):\n",
    "    return str(row).split('-')[1]"
   ]
  },
  {
   "cell_type": "code",
   "execution_count": 96,
   "metadata": {},
   "outputs": [],
   "source": [
    "data['年']=data['日期'].apply(year)\n",
    "data['月']=data['日期'].apply(month)\n",
    "data.drop(columns='日期',inplace=True)"
   ]
  },
  {
   "cell_type": "code",
   "execution_count": 97,
   "metadata": {},
   "outputs": [],
   "source": [
    "def category(row):\n",
    "    return str(row).split(',')[1]"
   ]
  },
  {
   "cell_type": "code",
   "execution_count": 98,
   "metadata": {},
   "outputs": [],
   "source": [
    "data['案號']=data['字號'].apply(category)\n",
    "data.drop(columns='字號',inplace=True)"
   ]
  },
  {
   "cell_type": "code",
   "execution_count": 115,
   "metadata": {},
   "outputs": [
    {
     "data": {
      "text/plain": [
       "['年',\n",
       " '月',\n",
       " '案號',\n",
       " '案由',\n",
       " '歷審裁判',\n",
       " '裁判',\n",
       " '主文_key',\n",
       " '全文_key',\n",
       " '法院見解_key',\n",
       " '主文_斷詞',\n",
       " '全文_斷詞',\n",
       " '法院見解_斷詞',\n",
       " '主文',\n",
       " '全文',\n",
       " '法院見解',\n",
       " '法條1',\n",
       " '法條2',\n",
       " '法條3',\n",
       " '法條4',\n",
       " '法條5',\n",
       " '法條6',\n",
       " '法條7',\n",
       " '法條8',\n",
       " '法條9',\n",
       " '法條10']"
      ]
     },
     "execution_count": 115,
     "metadata": {},
     "output_type": "execute_result"
    }
   ],
   "source": [
    "cols=data.columns.tolist()"
   ]
  },
  {
   "cell_type": "code",
   "execution_count": 113,
   "metadata": {},
   "outputs": [],
   "source": [
    "cols=','.join(cols[-3:])+','+cols[0]+','+cols[3]+','+cols[2]+','+cols[-5]+','+cols[-6]+','+cols[-4]+','+cols[-8]+','+cols[-9]+','+cols[-7]+','+cols[4]+','+cols[1]+','+cols[5]+','+','.join(cols[6:16])"
   ]
  },
  {
   "cell_type": "code",
   "execution_count": null,
   "metadata": {},
   "outputs": [],
   "source": [
    "cols=cols.split(',')\n",
    "data=data[cols]"
   ]
  },
  {
   "cell_type": "code",
   "execution_count": 116,
   "metadata": {},
   "outputs": [
    {
     "data": {
      "text/html": [
       "<div>\n",
       "<style scoped>\n",
       "    .dataframe tbody tr th:only-of-type {\n",
       "        vertical-align: middle;\n",
       "    }\n",
       "\n",
       "    .dataframe tbody tr th {\n",
       "        vertical-align: top;\n",
       "    }\n",
       "\n",
       "    .dataframe thead th {\n",
       "        text-align: right;\n",
       "    }\n",
       "</style>\n",
       "<table border=\"1\" class=\"dataframe\">\n",
       "  <thead>\n",
       "    <tr style=\"text-align: right;\">\n",
       "      <th></th>\n",
       "      <th>年</th>\n",
       "      <th>月</th>\n",
       "      <th>案號</th>\n",
       "      <th>案由</th>\n",
       "      <th>歷審裁判</th>\n",
       "      <th>裁判</th>\n",
       "      <th>主文_key</th>\n",
       "      <th>全文_key</th>\n",
       "      <th>法院見解_key</th>\n",
       "      <th>主文_斷詞</th>\n",
       "      <th>...</th>\n",
       "      <th>法條1</th>\n",
       "      <th>法條2</th>\n",
       "      <th>法條3</th>\n",
       "      <th>法條4</th>\n",
       "      <th>法條5</th>\n",
       "      <th>法條6</th>\n",
       "      <th>法條7</th>\n",
       "      <th>法條8</th>\n",
       "      <th>法條9</th>\n",
       "      <th>法條10</th>\n",
       "    </tr>\n",
       "  </thead>\n",
       "  <tbody>\n",
       "    <tr>\n",
       "      <th>6</th>\n",
       "      <td>2011</td>\n",
       "      <td>12</td>\n",
       "      <td>保險</td>\n",
       "      <td>給付補償金</td>\n",
       "      <td>NaN</td>\n",
       "      <td>判決</td>\n",
       "      <td>原告 之訴 訴訟費 負擔</td>\n",
       "      <td>原告 責任 條第 汽車 機車 強制 保險法 行為 被告 酒醉</td>\n",
       "      <td>條第 汽車 責任 保險法 行為 強制 原告 駕車 酒醉 28</td>\n",
       "      <td>原告 之訴 駁 回 訴訟費 由 原告 負擔</td>\n",
       "      <td>...</td>\n",
       "      <td>中華民國刑法</td>\n",
       "      <td>強制汽車責任保險法</td>\n",
       "      <td>民事訴訟法</td>\n",
       "      <td>道路交通安全規則</td>\n",
       "      <td>NaN</td>\n",
       "      <td>NaN</td>\n",
       "      <td>NaN</td>\n",
       "      <td>NaN</td>\n",
       "      <td>NaN</td>\n",
       "      <td>NaN</td>\n",
       "    </tr>\n",
       "  </tbody>\n",
       "</table>\n",
       "<p>1 rows × 25 columns</p>\n",
       "</div>"
      ],
      "text/plain": [
       "      年   月  案號     案由 歷審裁判  裁判        主文_key                          全文_key  \\\n",
       "6  2011  12  保險  給付補償金  NaN  判決  原告 之訴 訴訟費 負擔  原告 責任 條第 汽車 機車 強制 保險法 行為 被告 酒醉   \n",
       "\n",
       "                         法院見解_key                  主文_斷詞 ...      法條1  \\\n",
       "6  條第 汽車 責任 保險法 行為 強制 原告 駕車 酒醉 28  原告 之訴 駁 回 訴訟費 由 原告 負擔 ...   中華民國刑法   \n",
       "\n",
       "         法條2    法條3       法條4  法條5  法條6  法條7  法條8  法條9 法條10  \n",
       "6  強制汽車責任保險法  民事訴訟法  道路交通安全規則  NaN  NaN  NaN  NaN  NaN  NaN  \n",
       "\n",
       "[1 rows x 25 columns]"
      ]
     },
     "execution_count": 116,
     "metadata": {},
     "output_type": "execute_result"
    }
   ],
   "source": [
    "data.head(1)"
   ]
  },
  {
   "cell_type": "markdown",
   "metadata": {},
   "source": [
    "## Final Decision Merging (Not Used Eventually)"
   ]
  },
  {
   "cell_type": "code",
   "execution_count": 210,
   "metadata": {},
   "outputs": [],
   "source": [
    "data=data.sort_values('年', ascending=False).drop_duplicates('全文').sort_index()\n",
    "data_new=data.sort_values('年', ascending=False).drop_duplicates('歷審裁判').sort_index()\n",
    "data_old=data_old.sort_values('年', ascending=True).drop_duplicates('歷審裁判').sort_index()"
   ]
  },
  {
   "cell_type": "code",
   "execution_count": 264,
   "metadata": {},
   "outputs": [],
   "source": [
    "unique_case=dict(data['歷審裁判'].value_counts())"
   ]
  },
  {
   "cell_type": "code",
   "execution_count": 268,
   "metadata": {},
   "outputs": [],
   "source": [
    "three_cases=[]\n",
    "for key,value in unique_case.items():\n",
    "    if value == 3:\n",
    "         three_cases.append(key)"
   ]
  },
  {
   "cell_type": "code",
   "execution_count": 271,
   "metadata": {},
   "outputs": [
    {
     "data": {
      "text/plain": [
       "['263a1fc62b17da912e097eb4090ae1ab',\n",
       " '09dfa708ecafb2012fe1a85f7cb42a84',\n",
       " 'b2a07a95bf3ba53783ffe299328ff2ca',\n",
       " 'e41943aa3a03fcafab9b2823bbb04997',\n",
       " 'c7935a08b879f44296326913d52ce295',\n",
       " 'd627dc0def3bb7e3860b1b9660d4fa0c']"
      ]
     },
     "execution_count": 271,
     "metadata": {},
     "output_type": "execute_result"
    }
   ],
   "source": [
    "three_cases"
   ]
  },
  {
   "cell_type": "code",
   "execution_count": 176,
   "metadata": {},
   "outputs": [
    {
     "data": {
      "text/plain": [
       "164195"
      ]
     },
     "execution_count": 176,
     "metadata": {},
     "output_type": "execute_result"
    }
   ],
   "source": [
    "import pycnnum as cn\n",
    "import re\n",
    "cn.cn2num('壹拾陸萬肆仟壹佰玖拾伍')"
   ]
  },
  {
   "cell_type": "code",
   "execution_count": 22,
   "metadata": {},
   "outputs": [],
   "source": [
    "def money(row):  \n",
    "    ls=re.split(r'(，|。)',str(row))\n",
    "    if '新臺幣' in ls[0] and '被告' in ls[0]:\n",
    "        return cn.cn2num(ls[0].split('新臺幣')[1].split('元')[0])\n",
    "    elif '新台幣' in ls[0] and '被告' in ls[0]:\n",
    "        return cn.cn2num(ls[0].split('新台幣')[1].split('元')[0])\n",
    "    else:\n",
    "        return 'lose'"
   ]
  },
  {
   "cell_type": "code",
   "execution_count": 178,
   "metadata": {},
   "outputs": [
    {
     "data": {
      "text/plain": [
       "164195"
      ]
     },
     "execution_count": 178,
     "metadata": {},
     "output_type": "execute_result"
    }
   ],
   "source": [
    "money('一、被告應給付原告新臺幣壹拾陸萬肆仟壹佰玖拾伍元。及自民國一百零四年十二月十日起至清償日止，')"
   ]
  },
  {
   "cell_type": "code",
   "execution_count": 168,
   "metadata": {},
   "outputs": [],
   "source": [
    "#def law_suit_money(row):  \n",
    "    #if '訴訟費用新臺幣' in str(row):\n",
    "        #return cn.cn2num(str(row).split('新臺幣')[1].split('元')[0])\n",
    "    #elif '訴訟費用新台幣'in str(row):\n",
    "        #return cn.cn2num(str(row).split('新台幣')[1].split('元')[0])\n",
    "    #else:\n",
    "        #return '無金錢交涉'"
   ]
  },
  {
   "cell_type": "code",
   "execution_count": 137,
   "metadata": {},
   "outputs": [],
   "source": [
    "#data.drop(['結果','訴訟金額','年息'],inplace=True,axis=1)"
   ]
  },
  {
   "cell_type": "code",
   "execution_count": 179,
   "metadata": {},
   "outputs": [],
   "source": [
    "data['賠償金額']=data['主文'].apply(money)"
   ]
  },
  {
   "cell_type": "code",
   "execution_count": 182,
   "metadata": {},
   "outputs": [],
   "source": [
    "data.to_csv('car_accident_money.csv')"
   ]
  },
  {
   "cell_type": "markdown",
   "metadata": {},
   "source": [
    "# Decision Tree to find Keywords"
   ]
  },
  {
   "cell_type": "code",
   "execution_count": 61,
   "metadata": {},
   "outputs": [
    {
     "name": "stdout",
     "output_type": "stream",
     "text": [
      "0.0 seconds has passed\n"
     ]
    }
   ],
   "source": [
    "import time as time\n",
    "start=time.time()\n",
    "print('{} seconds has passed'.format(round(time.time()-start,2)))"
   ]
  },
  {
   "cell_type": "code",
   "execution_count": 29,
   "metadata": {},
   "outputs": [],
   "source": [
    "data['merge']=data.apply(lambda row:str(row['全文_key'])+\" \"+str(row['法院見解_key']),axis=1)"
   ]
  },
  {
   "cell_type": "code",
   "execution_count": 173,
   "metadata": {},
   "outputs": [],
   "source": [
    "data['merge_all']=data.apply(lambda row:str(row['全文'])+\" \"+str(row['法院見解']),axis=1)"
   ]
  },
  {
   "cell_type": "code",
   "execution_count": 185,
   "metadata": {},
   "outputs": [],
   "source": [
    "data_key=data[(data['賠償金額']!='lose') & (data['賠償金額']!=0)]"
   ]
  },
  {
   "cell_type": "code",
   "execution_count": 111,
   "metadata": {},
   "outputs": [
    {
     "data": {
      "text/plain": [
       "'被告應給付原告新台幣貳佰捌拾萬元，及自民國九十九年七月八日起至清償日止，按年息百分之十計算之利息。訴訟費用由被告負擔。本判決於原告以新台幣玖拾參萬參仟元供擔保後，得為假執行；被告如以新台幣貳佰捌拾萬元預供擔保，得免為假執行事實及理由壹、程序部分：按訴狀送達後，原告不得將原訴變更或追加他訴。但有下列各款情形之一者，不在此限：三、擴張或減縮應受判決事項之聲明者。民事訴訟法第二百五十五條第一項第三款有明文規定。查原告起訴時之訴之聲明為：被告應給付原告新台幣（下同）二百八十萬元及自九十八年三月六日之翌日起至清償日止，按週年利率百分之十計算之利息，後減縮為：被告應給付原告二百八十萬元及自本案支付命令送達翌日即九十九年七月八日起，至清償日止，按年息百分之十計算之利息，經核原告為上開訴之聲明之減縮，與上開法文之規定並無不合，應予准許，先予敘明。貳、實體部份:'"
      ]
     },
     "execution_count": 111,
     "metadata": {},
     "output_type": "execute_result"
    }
   ],
   "source": [
    "data_key.iloc[1,12]"
   ]
  },
  {
   "cell_type": "code",
   "execution_count": 189,
   "metadata": {},
   "outputs": [],
   "source": [
    "data_key.to_excel('car_accident_money.xlsx')\n",
    "data_key.to_csv('car_accident_money.csv')"
   ]
  },
  {
   "cell_type": "code",
   "execution_count": 30,
   "metadata": {},
   "outputs": [],
   "source": [
    "import numpy as np\n",
    "X=data_key.loc[:,['賠償金額','merge']]\n",
    "y=X['賠償金額']\n",
    "X=X['merge']"
   ]
  },
  {
   "cell_type": "code",
   "execution_count": 7,
   "metadata": {},
   "outputs": [],
   "source": [
    "from sklearn.feature_extraction.text import TfidfVectorizer, CountVectorizer"
   ]
  },
  {
   "cell_type": "code",
   "execution_count": 31,
   "metadata": {},
   "outputs": [],
   "source": [
    "vectorizer = TfidfVectorizer()\n",
    "X_tf = vectorizer.fit_transform(X)\n",
    "names=vectorizer.get_feature_names()"
   ]
  },
  {
   "cell_type": "code",
   "execution_count": 32,
   "metadata": {},
   "outputs": [],
   "source": [
    "y=np.array(y)\n",
    "X_tf=X_tf.toarray()"
   ]
  },
  {
   "cell_type": "code",
   "execution_count": 33,
   "metadata": {},
   "outputs": [
    {
     "name": "stdout",
     "output_type": "stream",
     "text": [
      "(4862, 3163)\n",
      "(4862,)\n"
     ]
    }
   ],
   "source": [
    "print(X_tf.shape)\n",
    "print(y.shape)"
   ]
  },
  {
   "cell_type": "code",
   "execution_count": 34,
   "metadata": {},
   "outputs": [],
   "source": [
    "from sklearn.tree import DecisionTreeRegressor"
   ]
  },
  {
   "cell_type": "code",
   "execution_count": 35,
   "metadata": {},
   "outputs": [],
   "source": [
    "dtree = DecisionTreeRegressor()\n",
    "dtree.fit(X_tf,y)"
   ]
  },
  {
   "cell_type": "code",
   "execution_count": 39,
   "metadata": {},
   "outputs": [],
   "source": [
    "impo_features=(dict(zip(names,dtree.feature_importances_)))\n",
    "impo_features=dict(sorted(impo_features.items(),key=lambda x:x[1],reverse=True))"
   ]
  },
  {
   "cell_type": "code",
   "execution_count": 41,
   "metadata": {
    "scrolled": true
   },
   "outputs": [
    {
     "data": {
      "text/html": [
       "<div>\n",
       "<style scoped>\n",
       "    .dataframe tbody tr th:only-of-type {\n",
       "        vertical-align: middle;\n",
       "    }\n",
       "\n",
       "    .dataframe tbody tr th {\n",
       "        vertical-align: top;\n",
       "    }\n",
       "\n",
       "    .dataframe thead th {\n",
       "        text-align: right;\n",
       "    }\n",
       "</style>\n",
       "<table border=\"1\" class=\"dataframe\">\n",
       "  <thead>\n",
       "    <tr style=\"text-align: right;\">\n",
       "      <th></th>\n",
       "      <th>Index</th>\n",
       "      <th>Keyword</th>\n",
       "      <th>Importance_Score</th>\n",
       "    </tr>\n",
       "  </thead>\n",
       "  <tbody>\n",
       "    <tr>\n",
       "      <th>0</th>\n",
       "      <td>1</td>\n",
       "      <td>領系爭</td>\n",
       "      <td>0.772794</td>\n",
       "    </tr>\n",
       "    <tr>\n",
       "      <th>1</th>\n",
       "      <td>2</td>\n",
       "      <td>互助金</td>\n",
       "      <td>0.057955</td>\n",
       "    </tr>\n",
       "    <tr>\n",
       "      <th>2</th>\n",
       "      <td>3</td>\n",
       "      <td>宏大</td>\n",
       "      <td>0.025417</td>\n",
       "    </tr>\n",
       "    <tr>\n",
       "      <th>3</th>\n",
       "      <td>4</td>\n",
       "      <td>看護費</td>\n",
       "      <td>0.009009</td>\n",
       "    </tr>\n",
       "    <tr>\n",
       "      <th>4</th>\n",
       "      <td>5</td>\n",
       "      <td>美國</td>\n",
       "      <td>0.007411</td>\n",
       "    </tr>\n",
       "    <tr>\n",
       "      <th>5</th>\n",
       "      <td>6</td>\n",
       "      <td>孫欲禎</td>\n",
       "      <td>0.007276</td>\n",
       "    </tr>\n",
       "    <tr>\n",
       "      <th>6</th>\n",
       "      <td>7</td>\n",
       "      <td>江波</td>\n",
       "      <td>0.007120</td>\n",
       "    </tr>\n",
       "    <tr>\n",
       "      <th>7</th>\n",
       "      <td>8</td>\n",
       "      <td>認諾</td>\n",
       "      <td>0.006327</td>\n",
       "    </tr>\n",
       "    <tr>\n",
       "      <th>8</th>\n",
       "      <td>9</td>\n",
       "      <td>游泳</td>\n",
       "      <td>0.005649</td>\n",
       "    </tr>\n",
       "    <tr>\n",
       "      <th>9</th>\n",
       "      <td>10</td>\n",
       "      <td>車輛</td>\n",
       "      <td>0.005448</td>\n",
       "    </tr>\n",
       "    <tr>\n",
       "      <th>10</th>\n",
       "      <td>11</td>\n",
       "      <td>責任</td>\n",
       "      <td>0.005184</td>\n",
       "    </tr>\n",
       "    <tr>\n",
       "      <th>11</th>\n",
       "      <td>12</td>\n",
       "      <td>完成</td>\n",
       "      <td>0.004427</td>\n",
       "    </tr>\n",
       "    <tr>\n",
       "      <th>12</th>\n",
       "      <td>13</td>\n",
       "      <td>為手</td>\n",
       "      <td>0.004412</td>\n",
       "    </tr>\n",
       "    <tr>\n",
       "      <th>13</th>\n",
       "      <td>14</td>\n",
       "      <td>張智忠</td>\n",
       "      <td>0.004012</td>\n",
       "    </tr>\n",
       "    <tr>\n",
       "      <th>14</th>\n",
       "      <td>15</td>\n",
       "      <td>勞動</td>\n",
       "      <td>0.003723</td>\n",
       "    </tr>\n",
       "    <tr>\n",
       "      <th>15</th>\n",
       "      <td>16</td>\n",
       "      <td>月間</td>\n",
       "      <td>0.003631</td>\n",
       "    </tr>\n",
       "    <tr>\n",
       "      <th>16</th>\n",
       "      <td>17</td>\n",
       "      <td>天駿</td>\n",
       "      <td>0.003628</td>\n",
       "    </tr>\n",
       "    <tr>\n",
       "      <th>17</th>\n",
       "      <td>18</td>\n",
       "      <td>因系爭</td>\n",
       "      <td>0.003544</td>\n",
       "    </tr>\n",
       "    <tr>\n",
       "      <th>18</th>\n",
       "      <td>19</td>\n",
       "      <td>餘命</td>\n",
       "      <td>0.003525</td>\n",
       "    </tr>\n",
       "    <tr>\n",
       "      <th>19</th>\n",
       "      <td>20</td>\n",
       "      <td>環境</td>\n",
       "      <td>0.003321</td>\n",
       "    </tr>\n",
       "    <tr>\n",
       "      <th>20</th>\n",
       "      <td>21</td>\n",
       "      <td>亞聯</td>\n",
       "      <td>0.003194</td>\n",
       "    </tr>\n",
       "    <tr>\n",
       "      <th>21</th>\n",
       "      <td>22</td>\n",
       "      <td>林川吉</td>\n",
       "      <td>0.002175</td>\n",
       "    </tr>\n",
       "    <tr>\n",
       "      <th>22</th>\n",
       "      <td>23</td>\n",
       "      <td>登載</td>\n",
       "      <td>0.002145</td>\n",
       "    </tr>\n",
       "    <tr>\n",
       "      <th>23</th>\n",
       "      <td>24</td>\n",
       "      <td>投資</td>\n",
       "      <td>0.002057</td>\n",
       "    </tr>\n",
       "    <tr>\n",
       "      <th>24</th>\n",
       "      <td>25</td>\n",
       "      <td>信麟</td>\n",
       "      <td>0.001981</td>\n",
       "    </tr>\n",
       "    <tr>\n",
       "      <th>25</th>\n",
       "      <td>26</td>\n",
       "      <td>失明</td>\n",
       "      <td>0.001790</td>\n",
       "    </tr>\n",
       "    <tr>\n",
       "      <th>26</th>\n",
       "      <td>27</td>\n",
       "      <td>人狀態</td>\n",
       "      <td>0.001672</td>\n",
       "    </tr>\n",
       "    <tr>\n",
       "      <th>27</th>\n",
       "      <td>28</td>\n",
       "      <td>登記</td>\n",
       "      <td>0.001588</td>\n",
       "    </tr>\n",
       "    <tr>\n",
       "      <th>28</th>\n",
       "      <td>29</td>\n",
       "      <td>設計</td>\n",
       "      <td>0.001459</td>\n",
       "    </tr>\n",
       "    <tr>\n",
       "      <th>29</th>\n",
       "      <td>30</td>\n",
       "      <td>被告</td>\n",
       "      <td>0.001437</td>\n",
       "    </tr>\n",
       "    <tr>\n",
       "      <th>...</th>\n",
       "      <td>...</td>\n",
       "      <td>...</td>\n",
       "      <td>...</td>\n",
       "    </tr>\n",
       "    <tr>\n",
       "      <th>3133</th>\n",
       "      <td>3134</td>\n",
       "      <td>駱曉筠</td>\n",
       "      <td>0.000000</td>\n",
       "    </tr>\n",
       "    <tr>\n",
       "      <th>3134</th>\n",
       "      <td>3135</td>\n",
       "      <td>駿佳</td>\n",
       "      <td>0.000000</td>\n",
       "    </tr>\n",
       "    <tr>\n",
       "      <th>3135</th>\n",
       "      <td>3136</td>\n",
       "      <td>駿瑞</td>\n",
       "      <td>0.000000</td>\n",
       "    </tr>\n",
       "    <tr>\n",
       "      <th>3136</th>\n",
       "      <td>3137</td>\n",
       "      <td>駿茂</td>\n",
       "      <td>0.000000</td>\n",
       "    </tr>\n",
       "    <tr>\n",
       "      <th>3137</th>\n",
       "      <td>3138</td>\n",
       "      <td>騎乘</td>\n",
       "      <td>0.000000</td>\n",
       "    </tr>\n",
       "    <tr>\n",
       "      <th>3138</th>\n",
       "      <td>3139</td>\n",
       "      <td>騎樓</td>\n",
       "      <td>0.000000</td>\n",
       "    </tr>\n",
       "    <tr>\n",
       "      <th>3139</th>\n",
       "      <td>3140</td>\n",
       "      <td>驗車</td>\n",
       "      <td>0.000000</td>\n",
       "    </tr>\n",
       "    <tr>\n",
       "      <th>3140</th>\n",
       "      <td>3141</td>\n",
       "      <td>骨灰</td>\n",
       "      <td>0.000000</td>\n",
       "    </tr>\n",
       "    <tr>\n",
       "      <th>3141</th>\n",
       "      <td>3142</td>\n",
       "      <td>骨科</td>\n",
       "      <td>0.000000</td>\n",
       "    </tr>\n",
       "    <tr>\n",
       "      <th>3142</th>\n",
       "      <td>3143</td>\n",
       "      <td>骨遠端</td>\n",
       "      <td>0.000000</td>\n",
       "    </tr>\n",
       "    <tr>\n",
       "      <th>3143</th>\n",
       "      <td>3144</td>\n",
       "      <td>骨髓炎</td>\n",
       "      <td>0.000000</td>\n",
       "    </tr>\n",
       "    <tr>\n",
       "      <th>3144</th>\n",
       "      <td>3145</td>\n",
       "      <td>高吉子</td>\n",
       "      <td>0.000000</td>\n",
       "    </tr>\n",
       "    <tr>\n",
       "      <th>3145</th>\n",
       "      <td>3146</td>\n",
       "      <td>高大</td>\n",
       "      <td>0.000000</td>\n",
       "    </tr>\n",
       "    <tr>\n",
       "      <th>3146</th>\n",
       "      <td>3147</td>\n",
       "      <td>高憲章</td>\n",
       "      <td>0.000000</td>\n",
       "    </tr>\n",
       "    <tr>\n",
       "      <th>3147</th>\n",
       "      <td>3148</td>\n",
       "      <td>高擇</td>\n",
       "      <td>0.000000</td>\n",
       "    </tr>\n",
       "    <tr>\n",
       "      <th>3148</th>\n",
       "      <td>3149</td>\n",
       "      <td>高旺明</td>\n",
       "      <td>0.000000</td>\n",
       "    </tr>\n",
       "    <tr>\n",
       "      <th>3149</th>\n",
       "      <td>3150</td>\n",
       "      <td>高架</td>\n",
       "      <td>0.000000</td>\n",
       "    </tr>\n",
       "    <tr>\n",
       "      <th>3150</th>\n",
       "      <td>3151</td>\n",
       "      <td>高錦花</td>\n",
       "      <td>0.000000</td>\n",
       "    </tr>\n",
       "    <tr>\n",
       "      <th>3151</th>\n",
       "      <td>3152</td>\n",
       "      <td>高鴻濱</td>\n",
       "      <td>0.000000</td>\n",
       "    </tr>\n",
       "    <tr>\n",
       "      <th>3152</th>\n",
       "      <td>3153</td>\n",
       "      <td>魏貽貺</td>\n",
       "      <td>0.000000</td>\n",
       "    </tr>\n",
       "    <tr>\n",
       "      <th>3153</th>\n",
       "      <td>3154</td>\n",
       "      <td>魚缸</td>\n",
       "      <td>0.000000</td>\n",
       "    </tr>\n",
       "    <tr>\n",
       "      <th>3154</th>\n",
       "      <td>3155</td>\n",
       "      <td>鮑惠強</td>\n",
       "      <td>0.000000</td>\n",
       "    </tr>\n",
       "    <tr>\n",
       "      <th>3155</th>\n",
       "      <td>3156</td>\n",
       "      <td>鵬運</td>\n",
       "      <td>0.000000</td>\n",
       "    </tr>\n",
       "    <tr>\n",
       "      <th>3156</th>\n",
       "      <td>3157</td>\n",
       "      <td>麗舍</td>\n",
       "      <td>0.000000</td>\n",
       "    </tr>\n",
       "    <tr>\n",
       "      <th>3157</th>\n",
       "      <td>3158</td>\n",
       "      <td>麥斯</td>\n",
       "      <td>0.000000</td>\n",
       "    </tr>\n",
       "    <tr>\n",
       "      <th>3158</th>\n",
       "      <td>3159</td>\n",
       "      <td>黃鈺惠</td>\n",
       "      <td>0.000000</td>\n",
       "    </tr>\n",
       "    <tr>\n",
       "      <th>3159</th>\n",
       "      <td>3160</td>\n",
       "      <td>黑函</td>\n",
       "      <td>0.000000</td>\n",
       "    </tr>\n",
       "    <tr>\n",
       "      <th>3160</th>\n",
       "      <td>3161</td>\n",
       "      <td>龍浩</td>\n",
       "      <td>0.000000</td>\n",
       "    </tr>\n",
       "    <tr>\n",
       "      <th>3161</th>\n",
       "      <td>3162</td>\n",
       "      <td>龍錦山</td>\n",
       "      <td>0.000000</td>\n",
       "    </tr>\n",
       "    <tr>\n",
       "      <th>3162</th>\n",
       "      <td>3163</td>\n",
       "      <td>龔學</td>\n",
       "      <td>0.000000</td>\n",
       "    </tr>\n",
       "  </tbody>\n",
       "</table>\n",
       "<p>3163 rows × 3 columns</p>\n",
       "</div>"
      ],
      "text/plain": [
       "     Index Keyword  Importance_Score\n",
       "0        1     領系爭          0.772794\n",
       "1        2     互助金          0.057955\n",
       "2        3      宏大          0.025417\n",
       "3        4     看護費          0.009009\n",
       "4        5      美國          0.007411\n",
       "5        6     孫欲禎          0.007276\n",
       "6        7      江波          0.007120\n",
       "7        8      認諾          0.006327\n",
       "8        9      游泳          0.005649\n",
       "9       10      車輛          0.005448\n",
       "10      11      責任          0.005184\n",
       "11      12      完成          0.004427\n",
       "12      13      為手          0.004412\n",
       "13      14     張智忠          0.004012\n",
       "14      15      勞動          0.003723\n",
       "15      16      月間          0.003631\n",
       "16      17      天駿          0.003628\n",
       "17      18     因系爭          0.003544\n",
       "18      19      餘命          0.003525\n",
       "19      20      環境          0.003321\n",
       "20      21      亞聯          0.003194\n",
       "21      22     林川吉          0.002175\n",
       "22      23      登載          0.002145\n",
       "23      24      投資          0.002057\n",
       "24      25      信麟          0.001981\n",
       "25      26      失明          0.001790\n",
       "26      27     人狀態          0.001672\n",
       "27      28      登記          0.001588\n",
       "28      29      設計          0.001459\n",
       "29      30      被告          0.001437\n",
       "...    ...     ...               ...\n",
       "3133  3134     駱曉筠          0.000000\n",
       "3134  3135      駿佳          0.000000\n",
       "3135  3136      駿瑞          0.000000\n",
       "3136  3137      駿茂          0.000000\n",
       "3137  3138      騎乘          0.000000\n",
       "3138  3139      騎樓          0.000000\n",
       "3139  3140      驗車          0.000000\n",
       "3140  3141      骨灰          0.000000\n",
       "3141  3142      骨科          0.000000\n",
       "3142  3143     骨遠端          0.000000\n",
       "3143  3144     骨髓炎          0.000000\n",
       "3144  3145     高吉子          0.000000\n",
       "3145  3146      高大          0.000000\n",
       "3146  3147     高憲章          0.000000\n",
       "3147  3148      高擇          0.000000\n",
       "3148  3149     高旺明          0.000000\n",
       "3149  3150      高架          0.000000\n",
       "3150  3151     高錦花          0.000000\n",
       "3151  3152     高鴻濱          0.000000\n",
       "3152  3153     魏貽貺          0.000000\n",
       "3153  3154      魚缸          0.000000\n",
       "3154  3155     鮑惠強          0.000000\n",
       "3155  3156      鵬運          0.000000\n",
       "3156  3157      麗舍          0.000000\n",
       "3157  3158      麥斯          0.000000\n",
       "3158  3159     黃鈺惠          0.000000\n",
       "3159  3160      黑函          0.000000\n",
       "3160  3161      龍浩          0.000000\n",
       "3161  3162     龍錦山          0.000000\n",
       "3162  3163      龔學          0.000000\n",
       "\n",
       "[3163 rows x 3 columns]"
      ]
     },
     "execution_count": 41,
     "metadata": {},
     "output_type": "execute_result"
    }
   ],
   "source": [
    "data_count=pd.DataFrame(columns = ['Index','Keyword' , 'Importance_Score'])\n",
    "index=1\n",
    "for k, v in impo_features.items():\n",
    "    ls=[index,k,v]\n",
    "    data_count.loc[index-1]=ls\n",
    "    index+=1\n",
    "data_count"
   ]
  },
  {
   "cell_type": "code",
   "execution_count": 73,
   "metadata": {},
   "outputs": [],
   "source": [
    "data_count.to_excel('keywords.xlsx')"
   ]
  },
  {
   "cell_type": "code",
   "execution_count": null,
   "metadata": {},
   "outputs": [],
   "source": [
    "from matplotlib.font_manager import _rebuild\n",
    "\n",
    "_rebuild() #reload一下\n",
    "plt.rcParams['font.sans-serif']=['SimHei']"
   ]
  },
  {
   "cell_type": "code",
   "execution_count": 83,
   "metadata": {},
   "outputs": [
    {
     "data": {
      "text/plain": [
       "([0,\n",
       "  1,\n",
       "  2,\n",
       "  3,\n",
       "  4,\n",
       "  5,\n",
       "  6,\n",
       "  7,\n",
       "  8,\n",
       "  9,\n",
       "  10,\n",
       "  11,\n",
       "  12,\n",
       "  13,\n",
       "  14,\n",
       "  15,\n",
       "  16,\n",
       "  17,\n",
       "  18,\n",
       "  19,\n",
       "  20,\n",
       "  21,\n",
       "  22,\n",
       "  23,\n",
       "  24,\n",
       "  25,\n",
       "  26,\n",
       "  27,\n",
       "  28,\n",
       "  29,\n",
       "  30],\n",
       " <a list of 31 Text xticklabel objects>)"
      ]
     },
     "execution_count": 83,
     "metadata": {},
     "output_type": "execute_result"
    },
    {
     "data": {
      "image/png": "[encoded data removed]",
      "text/plain": [
       "<Figure size 1728x864 with 1 Axes>"
      ]
     },
     "metadata": {},
     "output_type": "display_data"
    }
   ],
   "source": [
    "import matplotlib.pyplot as plt\n",
    "plt.figure(figsize=(24,12))\n",
    "plt.bar(data_count.loc[:30,'Keyword'],data_count.loc[:30,'Importance_Score'])\n",
    "plt.title('Important Keywords', fontsize=30)\n",
    "plt.xlabel('Keywords', fontsize=20)\n",
    "plt.ylabel('Importance Score', fontsize=20)\n",
    "plt.xticks(fontsize=20,rotation=45)"
   ]
  },
  {
   "cell_type": "markdown",
   "metadata": {},
   "source": [
    "# Write to TXT to determine Keywords Influencing Price"
   ]
  },
  {
   "cell_type": "code",
   "execution_count": 112,
   "metadata": {},
   "outputs": [
    {
     "data": {
      "text/plain": [
       "524288000"
      ]
     },
     "execution_count": 112,
     "metadata": {},
     "output_type": "execute_result"
    }
   ],
   "source": [
    "import csv\n",
    "import sys\n",
    "csv.field_size_limit(1000000)"
   ]
  },
  {
   "cell_type": "code",
   "execution_count": 119,
   "metadata": {},
   "outputs": [],
   "source": [
    "# overlap( all files)\n",
    "with open('car_accident_money.csv','r',encoding='utf-8') as f:\n",
    "    next(f)     #skip first row\n",
    "    reader = csv.reader(f)\n",
    "    index=1\n",
    "    for row in reader:\n",
    "        with open('./car_accident_money_token/'+row[1]+'_'+row[2]+'_'+row[3]+'_'+str(index)+'.txt','w',encoding='utf-8') as file:\n",
    "            label,context,court= row[4], row[11],row[12]\n",
    "            file.write(label+'\\n\\n'+context+'\\n\\n'+court)\n",
    "        file.close()"
   ]
  },
  {
   "cell_type": "code",
   "execution_count": null,
   "metadata": {},
   "outputs": [],
   "source": [
    "#not overlap (unique_year_case files)\n",
    "with open('car_accident_money.csv','r',encoding='utf-8') as f:\n",
    "    next(f)     #skip first row\n",
    "    reader = csv.reader(f)\n",
    "    index=0\n",
    "    for row in reader:\n",
    "        index+=1\n",
    "        with open('./car_accident_keyword_token/'+row[1]+'_'+row[3]+'.txt','w',encoding='utf-8') as file:\n",
    "            label,context,court= row[4], row[11],row[12]\n",
    "            file.write(label+'\\n\\n'+context+'\\n\\n'+court)\n",
    "        file.close()"
   ]
  }
 ],
 "metadata": {
  "kernelspec": {
   "display_name": "Python 3",
   "language": "python",
   "name": "python3"
  },
  "language_info": {
   "codemirror_mode": {
    "name": "ipython",
    "version": 3
   },
   "file_extension": ".py",
   "mimetype": "text/x-python",
   "name": "python",
   "nbconvert_exporter": "python",
   "pygments_lexer": "ipython3",
   "version": "3.6.5"
  }
 },
 "nbformat": 4,
 "nbformat_minor": 2
}