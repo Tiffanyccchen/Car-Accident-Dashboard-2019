{
 "cells": [
  {
   "cell_type": "code",
   "execution_count": 1,
   "metadata": {},
   "outputs": [],
   "source": [
    "import pandas as pd"
   ]
  },
  {
   "cell_type": "code",
   "execution_count": 28,
   "metadata": {},
   "outputs": [],
   "source": [
    "data=pd.read_csv('car_accident_money.csv',index_col=0)"
   ]
  },
  {
   "cell_type": "code",
   "execution_count": null,
   "metadata": {},
   "outputs": [],
   "source": [
    "data['賠償金額_千']=data_car['賠償金額'].apply(lambda x: round(x/1000,2))"
   ]
  },
  {
   "cell_type": "code",
   "execution_count": null,
   "metadata": {},
   "outputs": [],
   "source": [
    "data_car=data_car[data_car['賠償金額_千']<20000]"
   ]
  },
  {
   "cell_type": "code",
   "execution_count": 34,
   "metadata": {},
   "outputs": [],
   "source": [
    "def check1(row):\n",
    "    if '駛離現場' in row:return True\n",
    "    else:return False    "
   ]
  },
  {
   "cell_type": "code",
   "execution_count": 35,
   "metadata": {},
   "outputs": [],
   "source": [
    "data['駛離現場']=data['merge_all'].apply(check1)"
   ]
  },
  {
   "cell_type": "code",
   "execution_count": 36,
   "metadata": {},
   "outputs": [],
   "source": [
    "def check2(row):\n",
    "    if '酒醉' in row:return True\n",
    "    else:return False    "
   ]
  },
  {
   "cell_type": "code",
   "execution_count": 37,
   "metadata": {},
   "outputs": [],
   "source": [
    "data['酒醉']=data['merge_all'].apply(check2)"
   ]
  },
  {
   "cell_type": "code",
   "execution_count": 39,
   "metadata": {},
   "outputs": [],
   "source": [
    "def check3(row):\n",
    "    if any(name in row for name in ('疏於注意','疏於','疏忽','疏未注意','疏未','沒有注意','過失駕駛',\n",
    "                                    '違反號誌管制','侵入對向車道','竟疏','連續追撞','無照駕駛','闖越紅燈',\n",
    "                                    '未注意安全距離','未保持行車安全距離')):\n",
    "        return True\n",
    "    else:\n",
    "        return False    "
   ]
  },
  {
   "cell_type": "code",
   "execution_count": 40,
   "metadata": {},
   "outputs": [],
   "source": [
    "data['違規']=data['merge_all'].apply(check3)"
   ]
  },
  {
   "cell_type": "code",
   "execution_count": 47,
   "metadata": {},
   "outputs": [],
   "source": [
    "def check4(row):\n",
    "    if any(name in row for name in ('薪資','無法工作','工作損失','減少勞動')):\n",
    "        return True\n",
    "    else:\n",
    "        return False    "
   ]
  },
  {
   "cell_type": "code",
   "execution_count": 48,
   "metadata": {},
   "outputs": [],
   "source": [
    "data['工作損失']=data['merge_all'].apply(check4)"
   ]
  },
  {
   "cell_type": "code",
   "execution_count": 49,
   "metadata": {},
   "outputs": [],
   "source": [
    "def check5(row):\n",
    "    if any(name in row for name in ('精神慰撫金','精神慰藉金',\n",
    "                                    '精神上損害','精神上之痛苦','精神上痛苦','憂鬱症','精神痛苦','躁鬱症')):\n",
    "        return True\n",
    "    else:\n",
    "        return False    "
   ]
  },
  {
   "cell_type": "code",
   "execution_count": 50,
   "metadata": {},
   "outputs": [],
   "source": [
    "data['精神損失']=data['merge_all'].apply(check5)"
   ]
  },
  {
   "cell_type": "code",
   "execution_count": 51,
   "metadata": {},
   "outputs": [],
   "source": [
    "def check6(row):\n",
    "    if any(name in row for name in ('醫藥費','醫療費用','就醫','醫院','醫療','救護車')):\n",
    "        return True\n",
    "    else:\n",
    "        return False    "
   ]
  },
  {
   "cell_type": "code",
   "execution_count": 52,
   "metadata": {},
   "outputs": [],
   "source": [
    "data['醫療支出']=data['merge_all'].apply(check6)"
   ]
  },
  {
   "cell_type": "code",
   "execution_count": 53,
   "metadata": {},
   "outputs": [],
   "source": [
    "def check7(row):\n",
    "    if '手術' in row:\n",
    "        return True\n",
    "    else:\n",
    "        return False    "
   ]
  },
  {
   "cell_type": "code",
   "execution_count": 54,
   "metadata": {},
   "outputs": [],
   "source": [
    "data['手術']=data['merge_all'].apply(check7)"
   ]
  },
  {
   "cell_type": "code",
   "execution_count": 55,
   "metadata": {},
   "outputs": [],
   "source": [
    "def check8(row):\n",
    "    if any(name in row for name in ('休養期間','留職停薪','在家休養')):\n",
    "        return True\n",
    "    else:\n",
    "        return False "
   ]
  },
  {
   "cell_type": "code",
   "execution_count": 56,
   "metadata": {},
   "outputs": [],
   "source": [
    "data['工作暫停']=data['merge_all'].apply(check8)"
   ]
  },
  {
   "cell_type": "code",
   "execution_count": 60,
   "metadata": {},
   "outputs": [],
   "source": [
    "def check9(row):\n",
    "    if any(name in row for name in ('看護費','看護費','看護')):\n",
    "        return True\n",
    "    else:\n",
    "        return False "
   ]
  },
  {
   "cell_type": "code",
   "execution_count": 58,
   "metadata": {},
   "outputs": [],
   "source": [
    "data['需請看護']=data['merge_all'].apply(check9)"
   ]
  },
  {
   "cell_type": "code",
   "execution_count": 62,
   "metadata": {},
   "outputs": [],
   "source": [
    "def check10(row):\n",
    "    if any(name in row for name in ('死亡','不治','過世','餘命')):\n",
    "        return True\n",
    "    else:\n",
    "        return False "
   ]
  },
  {
   "cell_type": "code",
   "execution_count": 63,
   "metadata": {},
   "outputs": [],
   "source": [
    "data['人死亡']=data['merge_all'].apply(check10)"
   ]
  },
  {
   "cell_type": "code",
   "execution_count": 68,
   "metadata": {},
   "outputs": [],
   "source": [
    "def check11(row):\n",
    "    if any(name in row for name in ('失能','失去工作能力')):\n",
    "        return True\n",
    "    else:\n",
    "        return False "
   ]
  },
  {
   "cell_type": "code",
   "execution_count": 65,
   "metadata": {},
   "outputs": [],
   "source": [
    "data['失能']=data['merge_all'].apply(check11)"
   ]
  },
  {
   "cell_type": "code",
   "execution_count": 67,
   "metadata": {},
   "outputs": [],
   "source": [
    "def check12(row):\n",
    "    if '殘廢' in row:\n",
    "        return True\n",
    "    else:\n",
    "        return False "
   ]
  },
  {
   "cell_type": "code",
   "execution_count": 69,
   "metadata": {},
   "outputs": [],
   "source": [
    "data['殘廢']=data['merge_all'].apply(check12)"
   ]
  },
  {
   "cell_type": "code",
   "execution_count": 70,
   "metadata": {},
   "outputs": [],
   "source": [
    "def check13(row):\n",
    "    if any(name in row for name in ('車輛受損','送修','修繕','零件','車身受損','修復費用','車毀損','修理',\n",
    "                                    '費用','修理','右後視鏡','前引擎蓋','保險桿','鈑金','角燈','前車頭',\n",
    "                                    '後車門','烤漆')):\n",
    "        return True\n",
    "    else:\n",
    "        return False "
   ]
  },
  {
   "cell_type": "code",
   "execution_count": 71,
   "metadata": {},
   "outputs": [],
   "source": [
    "data['車輛受損']=data['merge_all'].apply(check13)"
   ]
  },
  {
   "cell_type": "code",
   "execution_count": 72,
   "metadata": {},
   "outputs": [],
   "source": [
    "def check14(row):\n",
    "    if '國' in row:\n",
    "        return True\n",
    "    else:\n",
    "        return False "
   ]
  },
  {
   "cell_type": "code",
   "execution_count": 73,
   "metadata": {},
   "outputs": [],
   "source": [
    "data['國家']=data['案號'].apply(check14)"
   ]
  },
  {
   "cell_type": "code",
   "execution_count": 77,
   "metadata": {},
   "outputs": [],
   "source": [
    "def check15(row):\n",
    "    if '保險' in row:\n",
    "        return True\n",
    "    else:\n",
    "        return False "
   ]
  },
  {
   "cell_type": "code",
   "execution_count": 75,
   "metadata": {},
   "outputs": [],
   "source": [
    "data['保險公司']=data['案號'].apply(check15)"
   ]
  },
  {
   "cell_type": "code",
   "execution_count": 78,
   "metadata": {},
   "outputs": [],
   "source": [
    "def check16(row):\n",
    "    if '勞' in row:\n",
    "        return True\n",
    "    else:\n",
    "        return False "
   ]
  },
  {
   "cell_type": "code",
   "execution_count": 79,
   "metadata": {},
   "outputs": [],
   "source": [
    "data['一般公司']=data['案號'].apply(check16)"
   ]
  },
  {
   "cell_type": "code",
   "execution_count": 80,
   "metadata": {},
   "outputs": [],
   "source": [
    "def check17(row):\n",
    "    if not any(name in row for name in ('保險','國','勞')):\n",
    "        return True\n",
    "    else:\n",
    "        return False "
   ]
  },
  {
   "cell_type": "code",
   "execution_count": 83,
   "metadata": {},
   "outputs": [],
   "source": [
    "data['車禍當事人']=data['案號'].apply(check17)"
   ]
  },
  {
   "cell_type": "code",
   "execution_count": null,
   "metadata": {},
   "outputs": [],
   "source": [
    "data_car=data_car[['案由','全文_key','全文','法院見解','法條1', '法條2', '法條3',\n",
    "       '賠償金額_千', '駛離現場', '酒醉', '違規', '工作損失', '精神損失', '醫療支出', '手術',\n",
    "       '工作暫停', '需請看護', '人死亡', '失能', '殘廢', '車輛受損', '國家', '保險公司', '一般公司',\n",
    "       '車禍當事人']]"
   ]
  },
  {
   "cell_type": "code",
   "execution_count": 84,
   "metadata": {},
   "outputs": [
    {
     "data": {
      "text/html": [
       "<div>\n",
       "<style scoped>\n",
       "    .dataframe tbody tr th:only-of-type {\n",
       "        vertical-align: middle;\n",
       "    }\n",
       "\n",
       "    .dataframe tbody tr th {\n",
       "        vertical-align: top;\n",
       "    }\n",
       "\n",
       "    .dataframe thead th {\n",
       "        text-align: right;\n",
       "    }\n",
       "</style>\n",
       "<table border=\"1\" class=\"dataframe\">\n",
       "  <thead>\n",
       "    <tr style=\"text-align: right;\">\n",
       "      <th></th>\n",
       "      <th>年</th>\n",
       "      <th>月</th>\n",
       "      <th>案號</th>\n",
       "      <th>案由</th>\n",
       "      <th>歷審裁判</th>\n",
       "      <th>裁判</th>\n",
       "      <th>主文_key</th>\n",
       "      <th>全文_key</th>\n",
       "      <th>法院見解_key</th>\n",
       "      <th>主文_斷詞</th>\n",
       "      <th>...</th>\n",
       "      <th>工作暫停</th>\n",
       "      <th>需請看護</th>\n",
       "      <th>人死亡</th>\n",
       "      <th>失能</th>\n",
       "      <th>殘廢</th>\n",
       "      <th>車輛受損</th>\n",
       "      <th>上訴對象-國家</th>\n",
       "      <th>上訴對象-保險公司</th>\n",
       "      <th>上訴對象-一般公司</th>\n",
       "      <th>上訴對象-車禍當事人</th>\n",
       "    </tr>\n",
       "  </thead>\n",
       "  <tbody>\n",
       "    <tr>\n",
       "      <th>7</th>\n",
       "      <td>2012</td>\n",
       "      <td>2</td>\n",
       "      <td>保險</td>\n",
       "      <td>給付保險金</td>\n",
       "      <td>NaN</td>\n",
       "      <td>判決</td>\n",
       "      <td>原告 幣捌 執行 被告 萬元 柒佰元 擔保 代位 應給 付涂志宏新</td>\n",
       "      <td>原告 被告 給付 保險 請求 代位 債權 保險金 涂志宏 債務人</td>\n",
       "      <td>代位 給付 原告 債務人 債權 請求 保險 求權 被告 涂志宏</td>\n",
       "      <td>被告 應給 付涂志宏新 臺 幣捌 拾 萬元 及 自民國 一百年 八月 二十二日 起至 清償 ...</td>\n",
       "      <td>...</td>\n",
       "      <td>False</td>\n",
       "      <td>False</td>\n",
       "      <td>True</td>\n",
       "      <td>False</td>\n",
       "      <td>False</td>\n",
       "      <td>True</td>\n",
       "      <td>False</td>\n",
       "      <td>True</td>\n",
       "      <td>False</td>\n",
       "      <td>False</td>\n",
       "    </tr>\n",
       "    <tr>\n",
       "      <th>11</th>\n",
       "      <td>2011</td>\n",
       "      <td>9</td>\n",
       "      <td>保險</td>\n",
       "      <td>給付保險金</td>\n",
       "      <td>e2069be8a0b7735a6d7a711b53f087f0</td>\n",
       "      <td>判決</td>\n",
       "      <td>原告 被告 應給付 清償 日止 計算 減縮 百分之十 新台幣 萬元</td>\n",
       "      <td>原告 保險 被告 運動 契約 障害 系爭 醫院 胸椎 脊柱</td>\n",
       "      <td>原告 保險 運動 障害 上開 被告 脊柱 主張 系爭 契約</td>\n",
       "      <td>被告 應給付 原告 新台幣 貳 佰 捌 拾 萬元 及 自民國 九十九年 七月 八日 起至 清...</td>\n",
       "      <td>...</td>\n",
       "      <td>False</td>\n",
       "      <td>False</td>\n",
       "      <td>False</td>\n",
       "      <td>False</td>\n",
       "      <td>True</td>\n",
       "      <td>True</td>\n",
       "      <td>False</td>\n",
       "      <td>True</td>\n",
       "      <td>False</td>\n",
       "      <td>False</td>\n",
       "    </tr>\n",
       "    <tr>\n",
       "      <th>14</th>\n",
       "      <td>2011</td>\n",
       "      <td>11</td>\n",
       "      <td>保險</td>\n",
       "      <td>給付保險金</td>\n",
       "      <td>NaN</td>\n",
       "      <td>判決</td>\n",
       "      <td>原告 執行 被告 豐產物 保險 幣玖萬元 負擔 應給付 自民國 清償</td>\n",
       "      <td>原告 保險 被告 契約 泰安 傷害 給付 系爭 醫院 兆豐</td>\n",
       "      <td>原告 保險 被告 契約 系爭 給付 傷害 泰安 兆豐 請求</td>\n",
       "      <td>被告 兆 豐產物 保險 股份 有限公司 應給付 原告 新 臺 幣玖萬元 及 自民國 九 十八...</td>\n",
       "      <td>...</td>\n",
       "      <td>False</td>\n",
       "      <td>False</td>\n",
       "      <td>True</td>\n",
       "      <td>False</td>\n",
       "      <td>True</td>\n",
       "      <td>True</td>\n",
       "      <td>False</td>\n",
       "      <td>True</td>\n",
       "      <td>False</td>\n",
       "      <td>False</td>\n",
       "    </tr>\n",
       "    <tr>\n",
       "      <th>16</th>\n",
       "      <td>2012</td>\n",
       "      <td>7</td>\n",
       "      <td>保險</td>\n",
       "      <td>給付保險金</td>\n",
       "      <td>NaN</td>\n",
       "      <td>判決</td>\n",
       "      <td>原告 國際 人壽 保險 康健 台幣 執行 被告 壹拾 肆仟元</td>\n",
       "      <td>保險 人壽 受益人 康健 原告 李威達 被告 保險金 系爭 李佳純</td>\n",
       "      <td>原告 保險 康健 補償 應予 執行 理由 住院 已變 系爭</td>\n",
       "      <td>被告 國際 康健 人壽 保險 股份 有限公司 應給付 原告 李 文章 新台幣 壹拾 壹 萬 ...</td>\n",
       "      <td>...</td>\n",
       "      <td>False</td>\n",
       "      <td>False</td>\n",
       "      <td>True</td>\n",
       "      <td>False</td>\n",
       "      <td>False</td>\n",
       "      <td>True</td>\n",
       "      <td>False</td>\n",
       "      <td>True</td>\n",
       "      <td>False</td>\n",
       "      <td>False</td>\n",
       "    </tr>\n",
       "    <tr>\n",
       "      <th>21</th>\n",
       "      <td>2012</td>\n",
       "      <td>2</td>\n",
       "      <td>保險</td>\n",
       "      <td>給付保險金</td>\n",
       "      <td>NaN</td>\n",
       "      <td>判決</td>\n",
       "      <td>執行 被告 原告 幣壹佰參拾 肆萬 參仟元 以新 擔保 應給付 自民國</td>\n",
       "      <td>保險 劉仁傑 酒精 契約 濃度 被告 系爭 本院 眼球 檢驗</td>\n",
       "      <td>保險 酒精 劉仁傑 濃度 被告 本院 醫院 血液 眼球 契約</td>\n",
       "      <td>被告 應給付 原告 新 臺 幣壹佰參拾 肆萬 參仟元 及 自民國 一百年 八月 十日 起至 ...</td>\n",
       "      <td>...</td>\n",
       "      <td>False</td>\n",
       "      <td>False</td>\n",
       "      <td>True</td>\n",
       "      <td>False</td>\n",
       "      <td>False</td>\n",
       "      <td>True</td>\n",
       "      <td>False</td>\n",
       "      <td>True</td>\n",
       "      <td>False</td>\n",
       "      <td>False</td>\n",
       "    </tr>\n",
       "  </tbody>\n",
       "</table>\n",
       "<p>5 rows × 46 columns</p>\n",
       "</div>"
      ],
      "text/plain": [
       "       年   月  案號     案由                              歷審裁判  裁判  \\\n",
       "7   2012   2  保險  給付保險金                               NaN  判決   \n",
       "11  2011   9  保險  給付保險金  e2069be8a0b7735a6d7a711b53f087f0  判決   \n",
       "14  2011  11  保險  給付保險金                               NaN  判決   \n",
       "16  2012   7  保險  給付保險金                               NaN  判決   \n",
       "21  2012   2  保險  給付保險金                               NaN  判決   \n",
       "\n",
       "                                 主文_key                             全文_key  \\\n",
       "7     原告 幣捌 執行 被告 萬元 柒佰元 擔保 代位 應給 付涂志宏新   原告 被告 給付 保險 請求 代位 債權 保險金 涂志宏 債務人   \n",
       "11    原告 被告 應給付 清償 日止 計算 減縮 百分之十 新台幣 萬元      原告 保險 被告 運動 契約 障害 系爭 醫院 胸椎 脊柱   \n",
       "14   原告 執行 被告 豐產物 保險 幣玖萬元 負擔 應給付 自民國 清償      原告 保險 被告 契約 泰安 傷害 給付 系爭 醫院 兆豐   \n",
       "16       原告 國際 人壽 保險 康健 台幣 執行 被告 壹拾 肆仟元  保險 人壽 受益人 康健 原告 李威達 被告 保險金 系爭 李佳純   \n",
       "21  執行 被告 原告 幣壹佰參拾 肆萬 參仟元 以新 擔保 應給付 自民國     保險 劉仁傑 酒精 契約 濃度 被告 系爭 本院 眼球 檢驗   \n",
       "\n",
       "                           法院見解_key  \\\n",
       "7   代位 給付 原告 債務人 債權 請求 保險 求權 被告 涂志宏   \n",
       "11    原告 保險 運動 障害 上開 被告 脊柱 主張 系爭 契約   \n",
       "14    原告 保險 被告 契約 系爭 給付 傷害 泰安 兆豐 請求   \n",
       "16    原告 保險 康健 補償 應予 執行 理由 住院 已變 系爭   \n",
       "21   保險 酒精 劉仁傑 濃度 被告 本院 醫院 血液 眼球 契約   \n",
       "\n",
       "                                                主文_斷詞    ...       工作暫停  \\\n",
       "7   被告 應給 付涂志宏新 臺 幣捌 拾 萬元 及 自民國 一百年 八月 二十二日 起至 清償 ...    ...      False   \n",
       "11  被告 應給付 原告 新台幣 貳 佰 捌 拾 萬元 及 自民國 九十九年 七月 八日 起至 清...    ...      False   \n",
       "14  被告 兆 豐產物 保險 股份 有限公司 應給付 原告 新 臺 幣玖萬元 及 自民國 九 十八...    ...      False   \n",
       "16  被告 國際 康健 人壽 保險 股份 有限公司 應給付 原告 李 文章 新台幣 壹拾 壹 萬 ...    ...      False   \n",
       "21  被告 應給付 原告 新 臺 幣壹佰參拾 肆萬 參仟元 及 自民國 一百年 八月 十日 起至 ...    ...      False   \n",
       "\n",
       "     需請看護    人死亡     失能     殘廢  車輛受損 上訴對象-國家 上訴對象-保險公司 上訴對象-一般公司 上訴對象-車禍當事人  \n",
       "7   False   True  False  False  True   False      True     False      False  \n",
       "11  False  False  False   True  True   False      True     False      False  \n",
       "14  False   True  False   True  True   False      True     False      False  \n",
       "16  False   True  False  False  True   False      True     False      False  \n",
       "21  False   True  False  False  True   False      True     False      False  \n",
       "\n",
       "[5 rows x 46 columns]"
      ]
     },
     "execution_count": 84,
     "metadata": {},
     "output_type": "execute_result"
    }
   ],
   "source": [
    "data.head()"
   ]
  },
  {
   "cell_type": "code",
   "execution_count": 85,
   "metadata": {},
   "outputs": [],
   "source": [
    "data.to_csv('car_accident_final.csv')"
   ]
  }
 ],
 "metadata": {
  "kernelspec": {
   "display_name": "Python 3",
   "language": "python",
   "name": "python3"
  },
  "language_info": {
   "codemirror_mode": {
    "name": "ipython",
    "version": 3
   },
   "file_extension": ".py",
   "mimetype": "text/x-python",
   "name": "python",
   "nbconvert_exporter": "python",
   "pygments_lexer": "ipython3",
   "version": "3.6.5"
  }
 },
 "nbformat": 4,
 "nbformat_minor": 2
}