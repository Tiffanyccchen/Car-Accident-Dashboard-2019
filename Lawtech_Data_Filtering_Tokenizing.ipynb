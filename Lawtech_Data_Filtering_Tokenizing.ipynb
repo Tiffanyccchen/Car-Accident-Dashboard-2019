{
 "cells": [
  {
   "cell_type": "code",
   "execution_count": 35,
   "metadata": {},
   "outputs": [],
   "source": [
    "import json"
   ]
  },
  {
   "cell_type": "code",
   "execution_count": 2,
   "metadata": {},
   "outputs": [],
   "source": [
    "import io, os, sys, logging\n",
    "import numpy as np\n",
    "import pandas as pd\n",
    "import glob"
   ]
  },
  {
   "cell_type": "code",
   "execution_count": 4,
   "metadata": {},
   "outputs": [
    {
     "data": {
      "text/plain": [
       "'C:\\\\Users\\\\user\\\\Desktop'"
      ]
     },
     "execution_count": 4,
     "metadata": {},
     "output_type": "execute_result"
    }
   ],
   "source": [
    "os.getcwd()"
   ]
  },
  {
   "cell_type": "markdown",
   "metadata": {},
   "source": [
    "# Read All 民事 Files from Folder"
   ]
  },
  {
   "cell_type": "code",
   "execution_count": null,
   "metadata": {},
   "outputs": [],
   "source": [
    "from zipfile import ZipFile\n",
    "with ZipFile('臺灣臺北地方法院.zip', 'r') as zipObj:\n",
    "   # Extract all the contents of zip file in current directory\n",
    "   zipObj.extractall()\n",
    "    \n",
    "#from zipfile import ZipFile\n",
    "#archive = ZipFile('臺灣臺北地方法院.zip', 'r')\n",
    "#files = archive.namelist()\n",
    "#file = [name for name in archive.namelist() if '民事']"
   ]
  },
  {
   "cell_type": "code",
   "execution_count": 27,
   "metadata": {},
   "outputs": [],
   "source": [
    "file = glob.glob(\"./臺灣臺北地方法院/民事*.json\")"
   ]
  },
  {
   "cell_type": "code",
   "execution_count": 28,
   "metadata": {},
   "outputs": [
    {
     "data": {
      "text/plain": [
       "1182449"
      ]
     },
     "execution_count": 28,
     "metadata": {},
     "output_type": "execute_result"
    }
   ],
   "source": [
    "len(file)"
   ]
  },
  {
   "cell_type": "markdown",
   "metadata": {},
   "source": [
    "# Filter files by 案號"
   ]
  },
  {
   "cell_type": "code",
   "execution_count": 29,
   "metadata": {},
   "outputs": [],
   "source": [
    "file1=[f for f in file if '家' not in f and '消' not in f and '全' not in f and '婚' not in f and '選' not in f and '債' not in f and '整' not in f and '智' not in f and '破' not in f and'金' not in f]"
   ]
  },
  {
   "cell_type": "code",
   "execution_count": 30,
   "metadata": {},
   "outputs": [
    {
     "data": {
      "text/plain": [
       "1022681"
      ]
     },
     "execution_count": 30,
     "metadata": {},
     "output_type": "execute_result"
    }
   ],
   "source": [
    "len(file1)"
   ]
  },
  {
   "cell_type": "markdown",
   "metadata": {},
   "source": [
    "# Total number of 案號 in Filter Files"
   ]
  },
  {
   "cell_type": "code",
   "execution_count": 31,
   "metadata": {},
   "outputs": [],
   "source": [
    "unique_f=set(f.split(',')[1] for f in file1)\n",
    "index=0\n",
    "with open('民事_檔名_類型_filter.txt','w',encoding='utf-8') as output:\n",
    "     for uni in unique_f:\n",
    "            index+=1\n",
    "            if index%5==0:\n",
    "                output.write(str(index)+'. '+uni+'\\n')\n",
    "            else:\n",
    "                output.write(str(index)+'. '+uni+'\\t')\n",
    "output.close()"
   ]
  },
  {
   "cell_type": "code",
   "execution_count": 32,
   "metadata": {},
   "outputs": [
    {
     "data": {
      "text/plain": [
       "456"
      ]
     },
     "execution_count": 32,
     "metadata": {},
     "output_type": "execute_result"
    }
   ],
   "source": [
    "len(unique_f)"
   ]
  },
  {
   "cell_type": "code",
   "execution_count": 33,
   "metadata": {},
   "outputs": [
    {
     "data": {
      "text/plain": [
       "<_io.TextIOWrapper name='./臺灣臺北地方法院\\\\民事_100,司促,10253_2011-05-18.json' mode='r' encoding='utf-8'>"
      ]
     },
     "execution_count": 33,
     "metadata": {},
     "output_type": "execute_result"
    }
   ],
   "source": [
    "open(file1[240],'r',encoding='utf-8')"
   ]
  },
  {
   "cell_type": "markdown",
   "metadata": {},
   "source": [
    "# 案號 Freq. Dist. in Car Accident Files"
   ]
  },
  {
   "cell_type": "code",
   "execution_count": 43,
   "metadata": {},
   "outputs": [],
   "source": [
    "files_car = glob.glob(\"./車禍相關判決書/*.txt\")"
   ]
  },
  {
   "cell_type": "code",
   "execution_count": 44,
   "metadata": {},
   "outputs": [],
   "source": [
    "unique_car=set(f.split('_')[0].split('\\\\')[1] for f in files_car)\n",
    "index=0\n",
    "with open('民事_檔名_類型_車禍.txt','w',encoding='utf-8') as output:\n",
    "     for uni in unique_car:\n",
    "            index+=1\n",
    "            if index%5==0:\n",
    "                output.write(str(index)+'. '+uni+'\\n')\n",
    "            else:\n",
    "                output.write(str(index)+'. '+uni+'\\t')\n",
    "output.close()"
   ]
  },
  {
   "cell_type": "code",
   "execution_count": 45,
   "metadata": {},
   "outputs": [],
   "source": [
    "unique_car=np.array(list(f.split('_')[0].split('\\\\')[1] for f in files_car))"
   ]
  },
  {
   "cell_type": "code",
   "execution_count": 68,
   "metadata": {},
   "outputs": [],
   "source": [
    "unique,counts=np.unique(unique_car,return_counts=True)"
   ]
  },
  {
   "cell_type": "code",
   "execution_count": 152,
   "metadata": {},
   "outputs": [
    {
     "data": {
      "text/html": [
       "<div>\n",
       "<style scoped>\n",
       "    .dataframe tbody tr th:only-of-type {\n",
       "        vertical-align: middle;\n",
       "    }\n",
       "\n",
       "    .dataframe tbody tr th {\n",
       "        vertical-align: top;\n",
       "    }\n",
       "\n",
       "    .dataframe thead th {\n",
       "        text-align: right;\n",
       "    }\n",
       "</style>\n",
       "<table border=\"1\" class=\"dataframe\">\n",
       "  <thead>\n",
       "    <tr style=\"text-align: right;\">\n",
       "      <th></th>\n",
       "      <th>Index</th>\n",
       "      <th>Label</th>\n",
       "      <th>Count</th>\n",
       "    </tr>\n",
       "  </thead>\n",
       "  <tbody>\n",
       "    <tr>\n",
       "      <th>0</th>\n",
       "      <td>1</td>\n",
       "      <td>北小</td>\n",
       "      <td>1267</td>\n",
       "    </tr>\n",
       "    <tr>\n",
       "      <th>1</th>\n",
       "      <td>2</td>\n",
       "      <td>訴</td>\n",
       "      <td>743</td>\n",
       "    </tr>\n",
       "    <tr>\n",
       "      <th>2</th>\n",
       "      <td>3</td>\n",
       "      <td>北簡</td>\n",
       "      <td>666</td>\n",
       "    </tr>\n",
       "    <tr>\n",
       "      <th>3</th>\n",
       "      <td>4</td>\n",
       "      <td>店小</td>\n",
       "      <td>474</td>\n",
       "    </tr>\n",
       "    <tr>\n",
       "      <th>4</th>\n",
       "      <td>5</td>\n",
       "      <td>店簡</td>\n",
       "      <td>262</td>\n",
       "    </tr>\n",
       "    <tr>\n",
       "      <th>5</th>\n",
       "      <td>6</td>\n",
       "      <td>重訴</td>\n",
       "      <td>219</td>\n",
       "    </tr>\n",
       "    <tr>\n",
       "      <th>6</th>\n",
       "      <td>7</td>\n",
       "      <td>簡上</td>\n",
       "      <td>158</td>\n",
       "    </tr>\n",
       "    <tr>\n",
       "      <th>7</th>\n",
       "      <td>8</td>\n",
       "      <td>保險</td>\n",
       "      <td>132</td>\n",
       "    </tr>\n",
       "    <tr>\n",
       "      <th>8</th>\n",
       "      <td>9</td>\n",
       "      <td>小上</td>\n",
       "      <td>112</td>\n",
       "    </tr>\n",
       "    <tr>\n",
       "      <th>9</th>\n",
       "      <td>10</td>\n",
       "      <td>監宣</td>\n",
       "      <td>84</td>\n",
       "    </tr>\n",
       "    <tr>\n",
       "      <th>10</th>\n",
       "      <td>11</td>\n",
       "      <td>勞訴</td>\n",
       "      <td>58</td>\n",
       "    </tr>\n",
       "    <tr>\n",
       "      <th>11</th>\n",
       "      <td>12</td>\n",
       "      <td>北保險簡</td>\n",
       "      <td>48</td>\n",
       "    </tr>\n",
       "    <tr>\n",
       "      <th>12</th>\n",
       "      <td>13</td>\n",
       "      <td>北補</td>\n",
       "      <td>48</td>\n",
       "    </tr>\n",
       "    <tr>\n",
       "      <th>13</th>\n",
       "      <td>14</td>\n",
       "      <td>國</td>\n",
       "      <td>37</td>\n",
       "    </tr>\n",
       "    <tr>\n",
       "      <th>14</th>\n",
       "      <td>15</td>\n",
       "      <td>北勞簡</td>\n",
       "      <td>29</td>\n",
       "    </tr>\n",
       "    <tr>\n",
       "      <th>15</th>\n",
       "      <td>16</td>\n",
       "      <td>北保險小</td>\n",
       "      <td>26</td>\n",
       "    </tr>\n",
       "    <tr>\n",
       "      <th>16</th>\n",
       "      <td>17</td>\n",
       "      <td>司促</td>\n",
       "      <td>24</td>\n",
       "    </tr>\n",
       "    <tr>\n",
       "      <th>17</th>\n",
       "      <td>18</td>\n",
       "      <td>保險簡上</td>\n",
       "      <td>21</td>\n",
       "    </tr>\n",
       "    <tr>\n",
       "      <th>18</th>\n",
       "      <td>19</td>\n",
       "      <td>醫</td>\n",
       "      <td>19</td>\n",
       "    </tr>\n",
       "    <tr>\n",
       "      <th>19</th>\n",
       "      <td>20</td>\n",
       "      <td>重國</td>\n",
       "      <td>18</td>\n",
       "    </tr>\n",
       "    <tr>\n",
       "      <th>20</th>\n",
       "      <td>21</td>\n",
       "      <td>建</td>\n",
       "      <td>15</td>\n",
       "    </tr>\n",
       "    <tr>\n",
       "      <th>21</th>\n",
       "      <td>22</td>\n",
       "      <td>勞簡上</td>\n",
       "      <td>14</td>\n",
       "    </tr>\n",
       "    <tr>\n",
       "      <th>22</th>\n",
       "      <td>23</td>\n",
       "      <td>北訴</td>\n",
       "      <td>13</td>\n",
       "    </tr>\n",
       "    <tr>\n",
       "      <th>23</th>\n",
       "      <td>24</td>\n",
       "      <td>北國簡</td>\n",
       "      <td>12</td>\n",
       "    </tr>\n",
       "    <tr>\n",
       "      <th>24</th>\n",
       "      <td>25</td>\n",
       "      <td>審小上</td>\n",
       "      <td>12</td>\n",
       "    </tr>\n",
       "    <tr>\n",
       "      <th>25</th>\n",
       "      <td>26</td>\n",
       "      <td>事聲</td>\n",
       "      <td>9</td>\n",
       "    </tr>\n",
       "    <tr>\n",
       "      <th>26</th>\n",
       "      <td>27</td>\n",
       "      <td>店勞簡</td>\n",
       "      <td>9</td>\n",
       "    </tr>\n",
       "    <tr>\n",
       "      <th>27</th>\n",
       "      <td>28</td>\n",
       "      <td>抗</td>\n",
       "      <td>9</td>\n",
       "    </tr>\n",
       "    <tr>\n",
       "      <th>28</th>\n",
       "      <td>29</td>\n",
       "      <td>北勞小</td>\n",
       "      <td>8</td>\n",
       "    </tr>\n",
       "    <tr>\n",
       "      <th>29</th>\n",
       "      <td>30</td>\n",
       "      <td>聲</td>\n",
       "      <td>8</td>\n",
       "    </tr>\n",
       "    <tr>\n",
       "      <th>...</th>\n",
       "      <td>...</td>\n",
       "      <td>...</td>\n",
       "      <td>...</td>\n",
       "    </tr>\n",
       "    <tr>\n",
       "      <th>32</th>\n",
       "      <td>33</td>\n",
       "      <td>審訴</td>\n",
       "      <td>7</td>\n",
       "    </tr>\n",
       "    <tr>\n",
       "      <th>33</th>\n",
       "      <td>34</td>\n",
       "      <td>簡</td>\n",
       "      <td>7</td>\n",
       "    </tr>\n",
       "    <tr>\n",
       "      <th>34</th>\n",
       "      <td>35</td>\n",
       "      <td>聲再</td>\n",
       "      <td>7</td>\n",
       "    </tr>\n",
       "    <tr>\n",
       "      <th>35</th>\n",
       "      <td>36</td>\n",
       "      <td>北醫簡</td>\n",
       "      <td>6</td>\n",
       "    </tr>\n",
       "    <tr>\n",
       "      <th>36</th>\n",
       "      <td>37</td>\n",
       "      <td>重勞訴</td>\n",
       "      <td>6</td>\n",
       "    </tr>\n",
       "    <tr>\n",
       "      <th>37</th>\n",
       "      <td>38</td>\n",
       "      <td>保險小上</td>\n",
       "      <td>5</td>\n",
       "    </tr>\n",
       "    <tr>\n",
       "      <th>38</th>\n",
       "      <td>39</td>\n",
       "      <td>再易</td>\n",
       "      <td>5</td>\n",
       "    </tr>\n",
       "    <tr>\n",
       "      <th>39</th>\n",
       "      <td>40</td>\n",
       "      <td>北國小</td>\n",
       "      <td>5</td>\n",
       "    </tr>\n",
       "    <tr>\n",
       "      <th>40</th>\n",
       "      <td>41</td>\n",
       "      <td>審抗</td>\n",
       "      <td>5</td>\n",
       "    </tr>\n",
       "    <tr>\n",
       "      <th>41</th>\n",
       "      <td>42</td>\n",
       "      <td>北他調簡</td>\n",
       "      <td>4</td>\n",
       "    </tr>\n",
       "    <tr>\n",
       "      <th>42</th>\n",
       "      <td>43</td>\n",
       "      <td>原訴</td>\n",
       "      <td>4</td>\n",
       "    </tr>\n",
       "    <tr>\n",
       "      <th>43</th>\n",
       "      <td>44</td>\n",
       "      <td>原重訴</td>\n",
       "      <td>4</td>\n",
       "    </tr>\n",
       "    <tr>\n",
       "      <th>44</th>\n",
       "      <td>45</td>\n",
       "      <td>審聲</td>\n",
       "      <td>4</td>\n",
       "    </tr>\n",
       "    <tr>\n",
       "      <th>45</th>\n",
       "      <td>46</td>\n",
       "      <td>重訴更一</td>\n",
       "      <td>4</td>\n",
       "    </tr>\n",
       "    <tr>\n",
       "      <th>46</th>\n",
       "      <td>47</td>\n",
       "      <td>司聲</td>\n",
       "      <td>3</td>\n",
       "    </tr>\n",
       "    <tr>\n",
       "      <th>47</th>\n",
       "      <td>48</td>\n",
       "      <td>審保險</td>\n",
       "      <td>3</td>\n",
       "    </tr>\n",
       "    <tr>\n",
       "      <th>48</th>\n",
       "      <td>49</td>\n",
       "      <td>審救</td>\n",
       "      <td>3</td>\n",
       "    </tr>\n",
       "    <tr>\n",
       "      <th>49</th>\n",
       "      <td>50</td>\n",
       "      <td>監</td>\n",
       "      <td>3</td>\n",
       "    </tr>\n",
       "    <tr>\n",
       "      <th>50</th>\n",
       "      <td>51</td>\n",
       "      <td>簡抗</td>\n",
       "      <td>3</td>\n",
       "    </tr>\n",
       "    <tr>\n",
       "      <th>51</th>\n",
       "      <td>52</td>\n",
       "      <td>輔宣</td>\n",
       "      <td>3</td>\n",
       "    </tr>\n",
       "    <tr>\n",
       "      <th>52</th>\n",
       "      <td>53</td>\n",
       "      <td>醫簡上</td>\n",
       "      <td>3</td>\n",
       "    </tr>\n",
       "    <tr>\n",
       "      <th>53</th>\n",
       "      <td>54</td>\n",
       "      <td>保險更一</td>\n",
       "      <td>2</td>\n",
       "    </tr>\n",
       "    <tr>\n",
       "      <th>54</th>\n",
       "      <td>55</td>\n",
       "      <td>再微</td>\n",
       "      <td>2</td>\n",
       "    </tr>\n",
       "    <tr>\n",
       "      <th>55</th>\n",
       "      <td>56</td>\n",
       "      <td>北保險</td>\n",
       "      <td>2</td>\n",
       "    </tr>\n",
       "    <tr>\n",
       "      <th>56</th>\n",
       "      <td>57</td>\n",
       "      <td>司票</td>\n",
       "      <td>2</td>\n",
       "    </tr>\n",
       "    <tr>\n",
       "      <th>57</th>\n",
       "      <td>58</td>\n",
       "      <td>國小上</td>\n",
       "      <td>2</td>\n",
       "    </tr>\n",
       "    <tr>\n",
       "      <th>58</th>\n",
       "      <td>59</td>\n",
       "      <td>小抗</td>\n",
       "      <td>2</td>\n",
       "    </tr>\n",
       "    <tr>\n",
       "      <th>59</th>\n",
       "      <td>60</td>\n",
       "      <td>店事聲</td>\n",
       "      <td>2</td>\n",
       "    </tr>\n",
       "    <tr>\n",
       "      <th>60</th>\n",
       "      <td>61</td>\n",
       "      <td>親</td>\n",
       "      <td>2</td>\n",
       "    </tr>\n",
       "    <tr>\n",
       "      <th>61</th>\n",
       "      <td>62</td>\n",
       "      <td>調訴</td>\n",
       "      <td>2</td>\n",
       "    </tr>\n",
       "  </tbody>\n",
       "</table>\n",
       "<p>62 rows × 3 columns</p>\n",
       "</div>"
      ],
      "text/plain": [
       "   Index Label Count\n",
       "0      1    北小  1267\n",
       "1      2     訴   743\n",
       "2      3    北簡   666\n",
       "3      4    店小   474\n",
       "4      5    店簡   262\n",
       "5      6    重訴   219\n",
       "6      7    簡上   158\n",
       "7      8    保險   132\n",
       "8      9    小上   112\n",
       "9     10    監宣    84\n",
       "10    11    勞訴    58\n",
       "11    12  北保險簡    48\n",
       "12    13    北補    48\n",
       "13    14     國    37\n",
       "14    15   北勞簡    29\n",
       "15    16  北保險小    26\n",
       "16    17    司促    24\n",
       "17    18  保險簡上    21\n",
       "18    19     醫    19\n",
       "19    20    重國    18\n",
       "20    21     建    15\n",
       "21    22   勞簡上    14\n",
       "22    23    北訴    13\n",
       "23    24   北國簡    12\n",
       "24    25   審小上    12\n",
       "25    26    事聲     9\n",
       "26    27   店勞簡     9\n",
       "27    28     抗     9\n",
       "28    29   北勞小     8\n",
       "29    30     聲     8\n",
       "..   ...   ...   ...\n",
       "32    33    審訴     7\n",
       "33    34     簡     7\n",
       "34    35    聲再     7\n",
       "35    36   北醫簡     6\n",
       "36    37   重勞訴     6\n",
       "37    38  保險小上     5\n",
       "38    39    再易     5\n",
       "39    40   北國小     5\n",
       "40    41    審抗     5\n",
       "41    42  北他調簡     4\n",
       "42    43    原訴     4\n",
       "43    44   原重訴     4\n",
       "44    45    審聲     4\n",
       "45    46  重訴更一     4\n",
       "46    47    司聲     3\n",
       "47    48   審保險     3\n",
       "48    49    審救     3\n",
       "49    50     監     3\n",
       "50    51    簡抗     3\n",
       "51    52    輔宣     3\n",
       "52    53   醫簡上     3\n",
       "53    54  保險更一     2\n",
       "54    55    再微     2\n",
       "55    56   北保險     2\n",
       "56    57    司票     2\n",
       "57    58   國小上     2\n",
       "58    59    小抗     2\n",
       "59    60   店事聲     2\n",
       "60    61     親     2\n",
       "61    62    調訴     2\n",
       "\n",
       "[62 rows x 3 columns]"
      ]
     },
     "execution_count": 152,
     "metadata": {},
     "output_type": "execute_result"
    }
   ],
   "source": [
    "uni_count=dict(zip(unique,counts))\n",
    "uni_count=dict(sorted(uni_count.items(),key=lambda x:x[1],reverse=True))\n",
    "uni_count = dict((k, v) for k, v in uni_count.items() if v >1)\n",
    "\n",
    "data_count=pd.DataFrame(columns = ['Index' , 'Label' , 'Count'])\n",
    "index=1\n",
    "for k, v in uni_count.items():\n",
    "    ls=[index,k,v]\n",
    "    data_count.loc[index-1]=ls\n",
    "    index+=1\n",
    "data_count"
   ]
  },
  {
   "cell_type": "markdown",
   "metadata": {},
   "source": [
    "# Write Car Accident Files to CSV"
   ]
  },
  {
   "cell_type": "code",
   "execution_count": 55,
   "metadata": {},
   "outputs": [],
   "source": [
    "import csv"
   ]
  },
  {
   "cell_type": "code",
   "execution_count": 56,
   "metadata": {},
   "outputs": [],
   "source": [
    "whole=[]\n",
    "for f in file1:\n",
    "    with open(f,'r',encoding='utf-8') as inputfile:\n",
    "        data=json.loads(inputfile.read())\n",
    "        if '甲車' in data['judgement'] or '車禍' in data['judgement'] or '人車' in data['judgement']:\n",
    "            unit=[data['reason'],data['date'],data['no'],data['judgement'],data['type'],data['historyHash'],data['mainText'],data['opinion']]\n",
    "            length=len(data['relatedIssues'])\n",
    "            if length==0:continue\n",
    "            else:\n",
    "                unique=set()\n",
    "                for i in range(length):\n",
    "                    if data['relatedIssues'][i]['lawName'] not in unique:\n",
    "                        unique.add(data['relatedIssues'][i]['lawName'])\n",
    "                        unit.append(data['relatedIssues'][i]['lawName'])\n",
    "            whole.append(unit)"
   ]
  },
  {
   "cell_type": "code",
   "execution_count": 73,
   "metadata": {},
   "outputs": [],
   "source": [
    "len_car=[len(ele) for ele in whole]\n",
    "max_len_car=max(len_car)"
   ]
  },
  {
   "cell_type": "code",
   "execution_count": 74,
   "metadata": {},
   "outputs": [],
   "source": [
    "for element in whole:\n",
    "    len_ele=len(element)\n",
    "    if len_ele<max_len_car:\n",
    "        new_ls=[\"\"]*(max_len_car-len_ele)\n",
    "        element+=new_ls"
   ]
  },
  {
   "cell_type": "code",
   "execution_count": 75,
   "metadata": {},
   "outputs": [],
   "source": [
    "with open('car_accident_1.csv','w',encoding='utf-8') as output:\n",
    "    wr = csv.writer(output)\n",
    "    for record in whole:\n",
    "         wr.writerow(record)\n",
    "output.close()"
   ]
  },
  {
   "cell_type": "markdown",
   "metadata": {},
   "source": [
    "# Data Filtering"
   ]
  },
  {
   "cell_type": "code",
   "execution_count": 102,
   "metadata": {},
   "outputs": [
    {
     "data": {
      "text/plain": [
       "(6510, 18)"
      ]
     },
     "execution_count": 102,
     "metadata": {},
     "output_type": "execute_result"
    }
   ],
   "source": [
    "data_car=data_car[~data_car[2].str.contains('監宣')]\n",
    "data_car.shape"
   ]
  },
  {
   "cell_type": "code",
   "execution_count": 103,
   "metadata": {},
   "outputs": [
    {
     "data": {
      "text/plain": [
       "(6456, 18)"
      ]
     },
     "execution_count": 103,
     "metadata": {},
     "output_type": "execute_result"
    }
   ],
   "source": [
    "data_car=data_car[~data_car[2].str.contains('北補')]\n",
    "data_car.shape"
   ]
  },
  {
   "cell_type": "code",
   "execution_count": 104,
   "metadata": {},
   "outputs": [
    {
     "data": {
      "text/plain": [
       "(6442, 18)"
      ]
     },
     "execution_count": 104,
     "metadata": {},
     "output_type": "execute_result"
    }
   ],
   "source": [
    "data_car=data_car[~data_car[2].str.contains('司促')]\n",
    "data_car.shape"
   ]
  },
  {
   "cell_type": "code",
   "execution_count": 105,
   "metadata": {},
   "outputs": [
    {
     "data": {
      "text/plain": [
       "(6426, 18)"
      ]
     },
     "execution_count": 105,
     "metadata": {},
     "output_type": "execute_result"
    }
   ],
   "source": [
    "data_car=data_car[~data_car[2].str.contains('建')]\n",
    "data_car.shape"
   ]
  },
  {
   "cell_type": "code",
   "execution_count": 123,
   "metadata": {},
   "outputs": [
    {
     "data": {
      "text/plain": [
       "Index(['案由', '法條1', '法條2', '法條3', '全文_摘要', '法院見解_摘要', '賠償金額_千', '駛離現場', '酒醉',\n",
       "       '違規', '工作損失', '精神損失', '醫療支出', '手術', '工作暫停', '需請看護', '人死亡', '失能', '殘廢',\n",
       "       '車輛受損', '國家', '保險公司', '一般公司', '車禍當事人'],\n",
       "      dtype='object')"
      ]
     },
     "execution_count": 123,
     "metadata": {},
     "output_type": "execute_result"
    }
   ],
   "source": [
    "data_car.columns"
   ]
  },
  {
   "cell_type": "code",
   "execution_count": 106,
   "metadata": {},
   "outputs": [],
   "source": [
    "data_car.columns=['案由','日期','字號','全文','裁判','歷審裁判','主文','法院見解','法條1','法條2','法條3','法條4','法條5','法條6','法條7','法條8','法條9','法條10']"
   ]
  },
  {
   "cell_type": "markdown",
   "metadata": {},
   "source": [
    "# Tokenizing & Extracting Keywords"
   ]
  },
  {
   "cell_type": "code",
   "execution_count": 122,
   "metadata": {},
   "outputs": [],
   "source": [
    "data_car=pd.read_csv('../Bokeh-car_accident/bokeh_app/data/car_accident_final.csv',index_col=0)"
   ]
  },
  {
   "cell_type": "code",
   "execution_count": 8,
   "metadata": {},
   "outputs": [],
   "source": [
    "import jieba"
   ]
  },
  {
   "cell_type": "code",
   "execution_count": 13,
   "metadata": {},
   "outputs": [],
   "source": [
    "from gensim.summarization.summarizer import summarize"
   ]
  },
  {
   "cell_type": "code",
   "execution_count": 180,
   "metadata": {},
   "outputs": [],
   "source": [
    "data_car['主文'] = data_car['主文'].str.replace('\\r','')\n",
    "data_car['主文'] = data_car['主文'].str.replace('\\n','')\n",
    "data_car['主文'] = data_car['主文'].str.replace('\\u3000','')"
   ]
  },
  {
   "cell_type": "code",
   "execution_count": 100,
   "metadata": {},
   "outputs": [],
   "source": [
    "data_car['全文'] = data_car['全文'].str.replace('\\r','')\n",
    "data_car['全文'] = data_car['全文'].str.replace('\\n','')\n",
    "data_car['全文'] = data_car['全文'].str.replace('\\u3000','')"
   ]
  },
  {
   "cell_type": "code",
   "execution_count": 99,
   "metadata": {},
   "outputs": [],
   "source": [
    "data_car['法院見解'] = data_car['法院見解'].str.replace('\\r','')\n",
    "data_car['法院見解'] = data_car['法院見解'].str.replace('\\n','')\n",
    "data_car['法院見解'] = data_car['法院見解'].str.replace('\\u3000','')"
   ]
  },
  {
   "cell_type": "code",
   "execution_count": null,
   "metadata": {},
   "outputs": [],
   "source": [
    "stopwords=[]\n",
    "with open('chnstopwords.txt', 'r', encoding='UTF-8') as file:\n",
    "    for dt in file.readlines():\n",
    "        dt = dt.strip()\n",
    "        stopwords.append(dt)"
   ]
  },
  {
   "cell_type": "code",
   "execution_count": 26,
   "metadata": {},
   "outputs": [],
   "source": [
    "def jieba_cut_no_stopwords(row):\n",
    "    row=str(row)\n",
    "    words = list(jieba.cut(row))\n",
    "    return words"
   ]
  },
  {
   "cell_type": "code",
   "execution_count": 191,
   "metadata": {},
   "outputs": [],
   "source": [
    "def jieba_cut(row):\n",
    "    row=str(row)\n",
    "    words = list(jieba.cut(row))\n",
    "    for word in words:\n",
    "        if word.isdigit() or word in stopwords:\n",
    "            words.remove(word)\n",
    "    return \" \".join(words)"
   ]
  },
  {
   "cell_type": "code",
   "execution_count": null,
   "metadata": {},
   "outputs": [],
   "source": [
    "data_car['全文_斷詞']=data_car['全文'].apply(jieba_cut)\n",
    "data_car['法院見解_斷詞']=data_car['法院見解'].apply(jieba_cut)"
   ]
  },
  {
   "cell_type": "code",
   "execution_count": 102,
   "metadata": {},
   "outputs": [],
   "source": [
    "data_car['全文_斷詞']=data_car['全文'].apply(jieba_cut_no_stopwords)\n",
    "data_car['法院見解_斷詞']=data_car['法院見解'].apply(jieba_cut_no_stopwords)"
   ]
  },
  {
   "cell_type": "code",
   "execution_count": 35,
   "metadata": {},
   "outputs": [],
   "source": [
    "def sent(row):\n",
    "    sents=[]\n",
    "    ls=[]\n",
    "    for word in row:\n",
    "        if word !='。':\n",
    "            ls.append(word)\n",
    "        else:\n",
    "            sents.append(' '.join(ls))\n",
    "            ls=[]\n",
    "    return ' 。. '.join(sents)"
   ]
  },
  {
   "cell_type": "code",
   "execution_count": 106,
   "metadata": {},
   "outputs": [],
   "source": [
    "data_car['全文_句子']=data_car['全文_斷詞'].apply(sent)\n",
    "data_car['法院見解_句子']=data_car['法院見解_斷詞'].apply(sent)"
   ]
  },
  {
   "cell_type": "code",
   "execution_count": 108,
   "metadata": {},
   "outputs": [],
   "source": [
    "data_car['全文_摘要']=data_car['全文_句子'].apply(lambda x:summarize(x,ratio=0.3))\n",
    "data_car['法院見解_摘要']=data_car['法院見解_句子'].apply(lambda x:summarize(x,ratio=0.3))"
   ]
  },
  {
   "cell_type": "code",
   "execution_count": 109,
   "metadata": {},
   "outputs": [
    {
     "data": {
      "text/plain": [
       "'七 、 兩造 陳 明願供 擔保 ， 聲請 宣告 假 執行 或免 為 假 執行 ， 經核 原告 勝訴 部份 ， 合 於 法律 規定 ， 爰 分別 酌定 相當 之擔 保金 額 宣告 之 ； 原告 其餘假 執行 之聲 請 ， 因訴 之駁 回而失 所 依據 ， 應予 駁 回 。.'"
      ]
     },
     "execution_count": 109,
     "metadata": {},
     "output_type": "execute_result"
    }
   ],
   "source": [
    "data_car.loc[3,'法院見解_摘要']"
   ]
  },
  {
   "cell_type": "code",
   "execution_count": 110,
   "metadata": {},
   "outputs": [],
   "source": [
    "data_car.rename(columns={'上訴對象-國家': '國家'},inplace=True)\n",
    "data_car.rename(columns={'上訴對象-保險公司': '保險公司'},inplace=True)\n",
    "data_car.rename(columns={'上訴對象-一般公司': '一般公司'},inplace=True)\n",
    "data_car.rename(columns={'上訴對象-車禍當事人': '車禍當事人'},inplace=True)"
   ]
  },
  {
   "cell_type": "code",
   "execution_count": 114,
   "metadata": {},
   "outputs": [],
   "source": [
    "data_car=data_car[['案由','法條1', '法條2', '法條3','全文_摘要','法院見解_摘要', '賠償金額_千', '駛離現場', '酒醉', '違規', '工作損失', '精神損失', '醫療支出', '手術','工作暫停', '需請看護', '人死亡', '失能', '殘廢', '車輛受損', '國家', '保險公司', '一般公司','車禍當事人']]"
   ]
  },
  {
   "cell_type": "code",
   "execution_count": 119,
   "metadata": {},
   "outputs": [
    {
     "data": {
      "text/plain": [
       "Index(['駛離現場', '酒醉', '違規', '工作損失', '精神損失', '醫療支出', '手術', '工作暫停', '需請看護', '人死亡',\n",
       "       '失能', '殘廢', '車輛受損', '國家', '保險公司', '一般公司', '車禍當事人'],\n",
       "      dtype='object')"
      ]
     },
     "execution_count": 119,
     "metadata": {},
     "output_type": "execute_result"
    }
   ],
   "source": [
    "data_car.columns[8:]"
   ]
  },
  {
   "cell_type": "code",
   "execution_count": 115,
   "metadata": {},
   "outputs": [],
   "source": [
    "data_car.to_csv('car_accident_final.csv')"
   ]
  },
  {
   "cell_type": "code",
   "execution_count": 197,
   "metadata": {},
   "outputs": [],
   "source": [
    "#import jieba.analyse"
   ]
  },
  {
   "cell_type": "code",
   "execution_count": 218,
   "metadata": {},
   "outputs": [],
   "source": [
    "#def jieba_keywords(text):\n",
    "    #tags=jieba.analyse.extract_tags(text, topK=30)\n",
    "    #return \" \".join(tags)"
   ]
  },
  {
   "cell_type": "code",
   "execution_count": 219,
   "metadata": {},
   "outputs": [],
   "source": [
    "#data_car['全文_key']=data_car['全文_斷詞'].apply(jieba_keywords)\n",
    "#data_car['主文_key']=data_car['主文_斷詞'].apply(jieba_keywords)\n",
    "#data_car['法院見解_key']=data_car['法院見解_斷詞'].apply(jieba_keywords)"
   ]
  },
  {
   "cell_type": "code",
   "execution_count": 111,
   "metadata": {},
   "outputs": [],
   "source": [
    "data_car['法院見解_摘要']=data_car['法院見解_摘要'].str.replace(',', '')\n",
    "data_car['全文_摘要']=data_car['全文_摘要'].str.replace(',', '')"
   ]
  },
  {
   "cell_type": "code",
   "execution_count": 112,
   "metadata": {},
   "outputs": [],
   "source": [
    "data_car['法院見解_摘要'] = data_car['法院見解_摘要'].str.replace('\\r','')\n",
    "data_car['法院見解_摘要'] = data_car['法院見解_摘要'].str.replace('\\n','')\n",
    "data_car['法院見解_摘要'] = data_car['法院見解_摘要'].str.replace('\\u3000','')\n",
    "data_car['全文_摘要'] = data_car['全文_摘要'].str.replace('\\r','')\n",
    "data_car['全文_摘要'] = data_car['全文_摘要'].str.replace('\\n','')\n",
    "data_car['全文_摘要'] = data_car['全文_摘要'].str.replace('\\u3000','')"
   ]
  },
  {
   "cell_type": "code",
   "execution_count": 124,
   "metadata": {},
   "outputs": [
    {
     "name": "stdout",
     "output_type": "stream",
     "text": [
      "六 、 經查 ， 原告 因本件 車禍 事故 受有 上開 傷害 ， 另案 訴請訴 外人 法商 法國 巴黎 人壽 保險 股份 有現 公司 給付 保險金 案件 即 本院 九十九 年度 保險 字 第六十 號給付 保險金 案件 ， 以及 另案 訴請訴 外人 國華人壽 保險 股份 有限公司 給付 保險金 案件 即 本院 台北 簡易庭 九十九 年度 北 簡字 第四 二號 給付 保險金 案件 ， 經 法院 囑 託 行政院 國軍 退除役 官兵 輔導委員會 台北 榮民 總醫院 就 原告 之上 開傷勢 為 鑑定 ， 鑑定 結果 為 ： （ 一 ） 行政院 國軍 退除役 官兵 輔導委員會 台北 榮民 總醫院 一百年 四月 二十日 北總骨 字 第 100009243 號函 記載 ： 就 正常人 而言 ， 人體 胸椎 以下 前後曲共約 一百六十 度 ， 左右 曲 （ 屈 ） 約 一百零五 度 ， 左右 旋轉 約 二十度 。.\n"
     ]
    },
    {
     "data": {
      "text/plain": [
       "'嗣 原告 於 九         十七年 七月 十二日 於 高速公路 發生 車禍 ， 原告 因而 受 有 第十         二 胸椎 、 第一 至 第三 腰椎 壓迫 性骨折 之 傷害 ， 經訴 外人 振興         復 健醫學 中心 （ 下 稱振興 醫院 ） 診斷 結果 ， 原告 之上 開傷勢         符合 系爭 保險 契約 所約定 之 殘廢 程度 百分之四十 ， 被告 應給         付 原告 保險理 賠金為 二百八十 萬元 ， 然 原告 雖為 保險理 賠 之         聲請 ， 但 被告 迄今 仍 未 給付 。.'"
      ]
     },
     "execution_count": 124,
     "metadata": {},
     "output_type": "execute_result"
    }
   ],
   "source": [
    "print(data_car['法院見解_摘要'].loc[1])\n",
    "data_car['全文_摘要'].loc[1]"
   ]
  },
  {
   "cell_type": "code",
   "execution_count": 96,
   "metadata": {},
   "outputs": [
    {
     "data": {
      "text/html": [
       "<div>\n",
       "<style scoped>\n",
       "    .dataframe tbody tr th:only-of-type {\n",
       "        vertical-align: middle;\n",
       "    }\n",
       "\n",
       "    .dataframe tbody tr th {\n",
       "        vertical-align: top;\n",
       "    }\n",
       "\n",
       "    .dataframe thead th {\n",
       "        text-align: right;\n",
       "    }\n",
       "</style>\n",
       "<table border=\"1\" class=\"dataframe\">\n",
       "  <thead>\n",
       "    <tr style=\"text-align: right;\">\n",
       "      <th></th>\n",
       "      <th>案由</th>\n",
       "      <th>法條1</th>\n",
       "      <th>法條2</th>\n",
       "      <th>法條3</th>\n",
       "      <th>全文_摘要</th>\n",
       "      <th>法院見解_摘要</th>\n",
       "      <th>賠償金額_千</th>\n",
       "      <th>駛離現場</th>\n",
       "      <th>酒醉</th>\n",
       "      <th>違規</th>\n",
       "      <th>...</th>\n",
       "      <th>工作暫停</th>\n",
       "      <th>需請看護</th>\n",
       "      <th>人死亡</th>\n",
       "      <th>失能</th>\n",
       "      <th>殘廢</th>\n",
       "      <th>車輛受損</th>\n",
       "      <th>國家</th>\n",
       "      <th>保險公司</th>\n",
       "      <th>一般公司</th>\n",
       "      <th>車禍當事人</th>\n",
       "    </tr>\n",
       "  </thead>\n",
       "  <tbody>\n",
       "    <tr>\n",
       "      <th>0</th>\n",
       "      <td>給付保險金</td>\n",
       "      <td>強制汽車責任保險法</td>\n",
       "      <td>民事訴訟法</td>\n",
       "      <td>民法</td>\n",
       "      <td>本判決 第一 項如 原告 以新 臺 幣貳 拾陸 萬陸仟 柒佰元 為 被告 供 擔保 後 ， ...</td>\n",
       "      <td>依強 制汽車 責任 保險法 第 14 條之規定 ， 原告 之夫 涂志宏 對 被告 之保險 金...</td>\n",
       "      <td>800.0</td>\n",
       "      <td>False</td>\n",
       "      <td>False</td>\n",
       "      <td>False</td>\n",
       "      <td>...</td>\n",
       "      <td>False</td>\n",
       "      <td>False</td>\n",
       "      <td>True</td>\n",
       "      <td>False</td>\n",
       "      <td>False</td>\n",
       "      <td>True</td>\n",
       "      <td>False</td>\n",
       "      <td>True</td>\n",
       "      <td>False</td>\n",
       "      <td>False</td>\n",
       "    </tr>\n",
       "    <tr>\n",
       "      <th>1</th>\n",
       "      <td>給付保險金</td>\n",
       "      <td>保險法</td>\n",
       "      <td>民事訴訟法</td>\n",
       "      <td>NaN</td>\n",
       "      <td>嗣 原告 於 九         十七年 七月 十二日 於 高速公路 發生 車禍 ， 原告 ...</td>\n",
       "      <td>六 、 經查 ， 原告 因本件 車禍 事故 受有 上開 傷害 ， 另案 訴請訴 外人 法商 ...</td>\n",
       "      <td>2800.0</td>\n",
       "      <td>False</td>\n",
       "      <td>False</td>\n",
       "      <td>False</td>\n",
       "      <td>...</td>\n",
       "      <td>False</td>\n",
       "      <td>False</td>\n",
       "      <td>False</td>\n",
       "      <td>False</td>\n",
       "      <td>True</td>\n",
       "      <td>True</td>\n",
       "      <td>False</td>\n",
       "      <td>True</td>\n",
       "      <td>False</td>\n",
       "      <td>False</td>\n",
       "    </tr>\n",
       "    <tr>\n",
       "      <th>2</th>\n",
       "      <td>給付保險金</td>\n",
       "      <td>保險法</td>\n",
       "      <td>民事訴訟法</td>\n",
       "      <td>民法</td>\n",
       "      <td>從 而 ， 堪認 被告 泰安 公司 所辯 原告 於 系             爭保險 契約...</td>\n",
       "      <td>從 而 ， 堪認 被告 泰安 公司 所辯 原告 於 系爭 保險 契約 ( 一 ) 簽訂 前 ...</td>\n",
       "      <td>90.0</td>\n",
       "      <td>False</td>\n",
       "      <td>False</td>\n",
       "      <td>False</td>\n",
       "      <td>...</td>\n",
       "      <td>False</td>\n",
       "      <td>False</td>\n",
       "      <td>True</td>\n",
       "      <td>False</td>\n",
       "      <td>True</td>\n",
       "      <td>True</td>\n",
       "      <td>False</td>\n",
       "      <td>True</td>\n",
       "      <td>False</td>\n",
       "      <td>False</td>\n",
       "    </tr>\n",
       "    <tr>\n",
       "      <th>3</th>\n",
       "      <td>給付保險金</td>\n",
       "      <td>保險法</td>\n",
       "      <td>民事訴訟法</td>\n",
       "      <td>民法</td>\n",
       "      <td></td>\n",
       "      <td>七 、 兩造 陳 明願供 擔保 ， 聲請 宣告 假 執行 或免 為 假 執行 ， 經核 原告...</td>\n",
       "      <td>114.0</td>\n",
       "      <td>False</td>\n",
       "      <td>False</td>\n",
       "      <td>False</td>\n",
       "      <td>...</td>\n",
       "      <td>False</td>\n",
       "      <td>False</td>\n",
       "      <td>True</td>\n",
       "      <td>False</td>\n",
       "      <td>False</td>\n",
       "      <td>True</td>\n",
       "      <td>False</td>\n",
       "      <td>True</td>\n",
       "      <td>False</td>\n",
       "      <td>False</td>\n",
       "    </tr>\n",
       "    <tr>\n",
       "      <th>4</th>\n",
       "      <td>給付保險金</td>\n",
       "      <td>民事訴訟法</td>\n",
       "      <td>道路交通安全規則</td>\n",
       "      <td>NaN</td>\n",
       "      <td>四 、 本 件 原告 起訴 主張 系爭 KGI - 48531 號保險 契約 及 系爭 KG...</td>\n",
       "      <td>四 、 本 件 原告 起訴 主張 系爭 KGI - 48531 號保險 契約 及 系爭 KG...</td>\n",
       "      <td>1343.0</td>\n",
       "      <td>False</td>\n",
       "      <td>True</td>\n",
       "      <td>False</td>\n",
       "      <td>...</td>\n",
       "      <td>False</td>\n",
       "      <td>False</td>\n",
       "      <td>True</td>\n",
       "      <td>False</td>\n",
       "      <td>False</td>\n",
       "      <td>True</td>\n",
       "      <td>False</td>\n",
       "      <td>True</td>\n",
       "      <td>False</td>\n",
       "      <td>False</td>\n",
       "    </tr>\n",
       "  </tbody>\n",
       "</table>\n",
       "<p>5 rows × 24 columns</p>\n",
       "</div>"
      ],
      "text/plain": [
       "      案由        法條1       法條2  法條3  \\\n",
       "0  給付保險金  強制汽車責任保險法     民事訴訟法   民法   \n",
       "1  給付保險金        保險法     民事訴訟法  NaN   \n",
       "2  給付保險金        保險法     民事訴訟法   民法   \n",
       "3  給付保險金        保險法     民事訴訟法   民法   \n",
       "4  給付保險金      民事訴訟法  道路交通安全規則  NaN   \n",
       "\n",
       "                                               全文_摘要  \\\n",
       "0  本判決 第一 項如 原告 以新 臺 幣貳 拾陸 萬陸仟 柒佰元 為 被告 供 擔保 後 ， ...   \n",
       "1  嗣 原告 於 九         十七年 七月 十二日 於 高速公路 發生 車禍 ， 原告 ...   \n",
       "2  從 而 ， 堪認 被告 泰安 公司 所辯 原告 於 系             爭保險 契約...   \n",
       "3                                                      \n",
       "4  四 、 本 件 原告 起訴 主張 系爭 KGI - 48531 號保險 契約 及 系爭 KG...   \n",
       "\n",
       "                                             法院見解_摘要  賠償金額_千   駛離現場     酒醉  \\\n",
       "0  依強 制汽車 責任 保險法 第 14 條之規定 ， 原告 之夫 涂志宏 對 被告 之保險 金...   800.0  False  False   \n",
       "1  六 、 經查 ， 原告 因本件 車禍 事故 受有 上開 傷害 ， 另案 訴請訴 外人 法商 ...  2800.0  False  False   \n",
       "2  從 而 ， 堪認 被告 泰安 公司 所辯 原告 於 系爭 保險 契約 ( 一 ) 簽訂 前 ...    90.0  False  False   \n",
       "3  七 、 兩造 陳 明願供 擔保 ， 聲請 宣告 假 執行 或免 為 假 執行 ， 經核 原告...   114.0  False  False   \n",
       "4  四 、 本 件 原告 起訴 主張 系爭 KGI - 48531 號保險 契約 及 系爭 KG...  1343.0  False   True   \n",
       "\n",
       "      違規  ...     工作暫停   需請看護    人死亡     失能     殘廢  車輛受損     國家  保險公司   一般公司  \\\n",
       "0  False  ...    False  False   True  False  False  True  False  True  False   \n",
       "1  False  ...    False  False  False  False   True  True  False  True  False   \n",
       "2  False  ...    False  False   True  False   True  True  False  True  False   \n",
       "3  False  ...    False  False   True  False  False  True  False  True  False   \n",
       "4  False  ...    False  False   True  False  False  True  False  True  False   \n",
       "\n",
       "   車禍當事人  \n",
       "0  False  \n",
       "1  False  \n",
       "2  False  \n",
       "3  False  \n",
       "4  False  \n",
       "\n",
       "[5 rows x 24 columns]"
      ]
     },
     "execution_count": 96,
     "metadata": {},
     "output_type": "execute_result"
    }
   ],
   "source": [
    "data_car.head()"
   ]
  },
  {
   "cell_type": "code",
   "execution_count": 212,
   "metadata": {},
   "outputs": [],
   "source": [
    "data_car.to_csv('car_accident_1.csv')"
   ]
  }
 ],
 "metadata": {
  "kernelspec": {
   "display_name": "Python 3",
   "language": "python",
   "name": "python3"
  },
  "language_info": {
   "codemirror_mode": {
    "name": "ipython",
    "version": 3
   },
   "file_extension": ".py",
   "mimetype": "text/x-python",
   "name": "python",
   "nbconvert_exporter": "python",
   "pygments_lexer": "ipython3",
   "version": "3.6.5"
  }
 },
 "nbformat": 4,
 "nbformat_minor": 2
}